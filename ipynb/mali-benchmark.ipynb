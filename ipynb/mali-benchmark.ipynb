{
 "cells": [
  {
   "cell_type": "code",
   "execution_count": 7,
   "metadata": {},
   "outputs": [],
   "source": [
    "import pandas as pd\n",
    "import numpy as np\n",
    "from deepblast.trainer import LightningAligner\n",
    "import matplotlib.pyplot as plt\n",
    "import seaborn as sns\n",
    "from deepblast.dataset.utils import states2edges\n",
    "from deepblast.score import alignment_score\n",
    "%matplotlib inline"
   ]
  },
  {
   "cell_type": "code",
   "execution_count": 8,
   "metadata": {},
   "outputs": [
    {
     "name": "stdout",
     "output_type": "stream",
     "text": [
      "total 590M\r\n",
      "-rw-r--r-- 1 juermieboop juermieboop 590M Aug 18 12:15 'epoch=6.ckpt'\r\n"
     ]
    }
   ],
   "source": [
    "!ls -lhrt ../lightning_logs/version_174156/checkpoints"
   ]
  },
  {
   "cell_type": "markdown",
   "metadata": {},
   "source": [
    "TODO: Have the pretrained model be downloadable\n",
    "\n",
    "TODO: Have the malisam and malidup datasets downloadable as well"
   ]
  },
  {
   "cell_type": "code",
   "execution_count": 9,
   "metadata": {},
   "outputs": [],
   "source": [
    "#ckpt_path = '../../deep_blast_training/lightning_logs/version_174156/checkpoints/epoch=6.ckpt'\n",
    "ckpt_path = '../../deep_blast_training/lightning_logs/version_174137/checkpoints/epoch=9.ckpt'\n",
    "\n",
    "model = LightningAligner.load_from_checkpoint(ckpt_path).cuda()"
   ]
  },
  {
   "cell_type": "code",
   "execution_count": 10,
   "metadata": {},
   "outputs": [],
   "source": [
    "from deepblast.dataset.parse_mali import read_mali, read_mali_mammoth\n",
    "\n",
    "import seaborn as sns\n",
    "from deepblast.dataset.utils import states2matrix\n",
    "from deepblast.dataset.utils import state_f, tmstate_f, revstate_f\n",
    "from deepblast.score import alignment_score_kernel"
   ]
  },
  {
   "cell_type": "code",
   "execution_count": 11,
   "metadata": {},
   "outputs": [],
   "source": [
    "from Bio import pairwise2\n",
    "from Bio.pairwise2 import format_alignment\n",
    "from Bio.SubsMat import MatrixInfo as matlist\n",
    "from deepblast.dataset.utils import state_f\n",
    "matrix = matlist.blosum62\n",
    "def nw_f(x, y):\n",
    "    alignments = pairwise2.align.globaldx(x, y, matrix)\n",
    "    states = list(map(state_f, zip(list(alignments[0].seqA), list(alignments[0].seqB))))\n",
    "    states = ''.join(list(map(revstate_f, states)))\n",
    "    return states"
   ]
  },
  {
   "cell_type": "code",
   "execution_count": 12,
   "metadata": {},
   "outputs": [],
   "source": [
    "malidup_root = '../data/structure_benchmarks/malidup'\n",
    "malisam_root = '../data/structure_benchmarks/malisam'\n",
    "\n",
    "mammoth_dup_root = '../data/structure_benchmarks/mammoth/malidup'\n",
    "mammoth_sam_root = '../data/structure_benchmarks/mammoth/malisam'\n",
    "\n",
    "mali_root = malisam_root\n",
    "mali_mammoth = mammoth_sam_root\n",
    "benchmark = 'malisam'"
   ]
  },
  {
   "cell_type": "markdown",
   "metadata": {},
   "source": [
    "# Malidup / Malisam benchmark"
   ]
  },
  {
   "cell_type": "code",
   "execution_count": 13,
   "metadata": {},
   "outputs": [],
   "source": [
    "# read in manual and Mammoth\n",
    "mammoth = read_mali_mammoth(mali_mammoth, report_ids=True)\n",
    "manual = read_mali(mali_root, tool='manual', report_ids=True)\n",
    "res = pd.merge(manual, mammoth, left_on='dir', right_on='pdb')\n",
    "res = res[['0_x', '1_x', '2_x', '2_y']]\n",
    "res = res.rename(columns={'0_x' : 0, '1_x' : 1, '2_x' : 'manual', '2_y': 'mammoth'})\n",
    "res = res[~res.set_index([0, 1]).index.duplicated(keep='first')]\n",
    "res = res.set_index([0, 1])\n",
    "\n",
    "# read in TMalign, Fast and Dali \n",
    "fast   = read_mali(mali_root, tool='fast')\n",
    "tm     = read_mali(mali_root, tool='tm')\n",
    "dali   = read_mali(mali_root, tool='dali')\n",
    "fast = fast[~fast.set_index([0, 1]).index.duplicated(keep='first')]\n",
    "tm = tm[~tm.set_index([0, 1]).index.duplicated(keep='first')]\n",
    "dali = dali[~dali.set_index([0, 1]).index.duplicated(keep='first')]\n",
    "\n",
    "# build multi-indexes\n",
    "tm_ = tm.set_index([0, 1]).rename(columns={2: 'tm'})\n",
    "fast_ = fast.set_index([0, 1]).rename(columns={2: 'fast'})\n",
    "dali_ = dali.set_index([0, 1]).rename(columns={2: 'dali'})\n",
    "\n",
    "# merge together\n",
    "res = pd.merge(res, fast_, left_index=True, right_index=True)\n",
    "res = pd.merge(res, tm_, left_index=True, right_index=True)\n",
    "res = pd.merge(res, dali_, left_index=True, right_index=True)\n",
    "#res = rename ['fast', 'tm', 'dali']\n",
    "\n",
    "# Needleman-wunsch and deepblast\n",
    "nw     = res.reset_index().apply(lambda x: nw_f(x[1], x[0]), axis=1)\n",
    "dp     = res.reset_index().apply(lambda x: model.align(x[1], x[0]), axis=1)\n",
    "res['needleman-wunsch'] = nw.values\n",
    "res['deepblast'] = dp.values"
   ]
  },
  {
   "cell_type": "code",
   "execution_count": 16,
   "metadata": {},
   "outputs": [
    {
     "data": {
      "text/html": [
       "<div>\n",
       "<style scoped>\n",
       "    .dataframe tbody tr th:only-of-type {\n",
       "        vertical-align: middle;\n",
       "    }\n",
       "\n",
       "    .dataframe tbody tr th {\n",
       "        vertical-align: top;\n",
       "    }\n",
       "\n",
       "    .dataframe thead th {\n",
       "        text-align: right;\n",
       "    }\n",
       "</style>\n",
       "<table border=\"1\" class=\"dataframe\">\n",
       "  <thead>\n",
       "    <tr style=\"text-align: right;\">\n",
       "      <th></th>\n",
       "      <th></th>\n",
       "      <th>2</th>\n",
       "      <th>query_id</th>\n",
       "      <th>hit_id</th>\n",
       "      <th>pdb</th>\n",
       "      <th>dir</th>\n",
       "    </tr>\n",
       "    <tr>\n",
       "      <th>0</th>\n",
       "      <th>1</th>\n",
       "      <th></th>\n",
       "      <th></th>\n",
       "      <th></th>\n",
       "      <th></th>\n",
       "      <th></th>\n",
       "    </tr>\n",
       "  </thead>\n",
       "  <tbody>\n",
       "    <tr>\n",
       "      <th>SPYVLPVPFLNVLNGGSHAGGALALQEFMIAPTGAKTFAEALRIGSEVYHNLKSLTKKRYGASAGNVGDEGGVAPNIQ</th>\n",
       "      <th>EEVTIKANLIFANGSTQTAEFKGTFEKATSEAYAYADTLKKDNGEWTVDVADKGYTLNIKFAG</th>\n",
       "      <td>222::::::::::::22222222::::::::::22:::::::::::...</td>\n",
       "      <td>0</td>\n",
       "      <td>130</td>\n",
       "      <td>d2onea1d1hz6b_</td>\n",
       "      <td>d2onea1d1hz6b_</td>\n",
       "    </tr>\n",
       "    <tr>\n",
       "      <th>YSNITVERATLPVRAITKTLRDNGIPATISYSAYPLKAGFIHVPYTPDQVVNKFFLLGKNTPSMCLEAEIKAIELAVKVSLDYLEKDRDDIKIPL</th>\n",
       "      <th>MRIEVTIAKTSPLPAGAIDALAGELSRRIQYAFPDNEGHVSVRYAAANNLSVIGATKEDKQRISEILQETWESADDWFVSE</th>\n",
       "      <td>2:::::::111111::::::::::::::::11111111::::::::...</td>\n",
       "      <td>1</td>\n",
       "      <td>131</td>\n",
       "      <td>d1a2za_d1ghha_</td>\n",
       "      <td>d1a2za_d1ghha_</td>\n",
       "    </tr>\n",
       "    <tr>\n",
       "      <th>KGGFNSLVLNFVEKEDLSQDEIEELRNILNKKKGGFNSLVLNFVEKEDLSQDEIEELRNILNK</th>\n",
       "      <th>AADVVPATIARFKQLSAEDQLALIWFAYLEMGKTITLSANANAILVTIQGIDPGQQITVLRNCVVDMGFD</th>\n",
       "      <td>::::::::::::::22::::::::::::::::111111::::::::...</td>\n",
       "      <td>2</td>\n",
       "      <td>132</td>\n",
       "      <td>d1okra_d1m98a1</td>\n",
       "      <td>d1okra_d1m98a1</td>\n",
       "    </tr>\n",
       "    <tr>\n",
       "      <th>ARPCIPKSFGYSSVVCVCNASPPAQNLLLKSYFSEEGIGYSPIIVDITKDTFYKQP</th>\n",
       "      <th>IPPQILKEGKNAVLSFIAGLFDAEGHVSNKPGIELGMVNKRLIEDVTHYLNALGIKARIREKLRKDGIDYVLHVEEYSSLLRFYELIGKNLQNEEKREKLEKVLSNHKG</th>\n",
       "      <td>111111111111111111111:::::::::2222:::::::11:::...</td>\n",
       "      <td>3</td>\n",
       "      <td>133</td>\n",
       "      <td>d1ogsa2d1dq3a4</td>\n",
       "      <td>d1ogsa2d1dq3a4</td>\n",
       "    </tr>\n",
       "    <tr>\n",
       "      <th>GFSLRREPKTVHASGGSAQLGQTVAHDVAQSGRKHLLSLRFANVQGHAIACSCEGSQFKLFDPNLGEFQSSRSAAPQLIKGLIDHYNSLNYDVACVNEFRVSV</th>\n",
       "      <th>NEKLFTAWFSDLTPETLVTRNKAQLKAFWEKHSDIILKPLDGMGGASIFRVKEGDPNLGVIAETLTEHGTRYCMAQNYLPAIKD</th>\n",
       "      <td>11111111::::::::::::2222222::::::::::::2::::::...</td>\n",
       "      <td>4</td>\n",
       "      <td>134</td>\n",
       "      <td>d1ukfa_d1gsa_2</td>\n",
       "      <td>d1ukfa_d1gsa_2</td>\n",
       "    </tr>\n",
       "    <tr>\n",
       "      <th>...</th>\n",
       "      <th>...</th>\n",
       "      <td>...</td>\n",
       "      <td>...</td>\n",
       "      <td>...</td>\n",
       "      <td>...</td>\n",
       "      <td>...</td>\n",
       "    </tr>\n",
       "    <tr>\n",
       "      <th>LPASIFRAYDIRGVVGDTLTAETAYWIGRAIGSESLARGEGKSGVMLTGSHNPPDYNGFKIVVAGETLANEQIQALRERIEKND</th>\n",
       "      <th>AESSLRVISKEKNSITVEMINYDNTLLRTLVEEILKDDQVDEARYYIKHPVIDNPQIYVRVKSGKPQSAIKRAVRKLSKLYEDLGTQFQKEFQRYESDH</th>\n",
       "      <td>1::::::1::1111:::::::222:::::::::::::::::22222...</td>\n",
       "      <td>125</td>\n",
       "      <td>255</td>\n",
       "      <td>d1p5gx1d1xppa_</td>\n",
       "      <td>d1p5gx1d1xppa_</td>\n",
       "    </tr>\n",
       "    <tr>\n",
       "      <th>SENPILDAEAVVLLYECLKELGLRRLKVKLSSVGLGEEARAHLKEVERHLERLSVPYELEPALVRGLDYYVRTAFEVHHEEIGAQSALGGGGRYD</th>\n",
       "      <th>VGVNVMLKLLEKAAKVMGDYTDIEIIEAHHRHKVDAPSGTALAMGEAIAHALDKDLKDCAVYSREGHTGERVPGTIGFATVRAGDIVGEHTAMFADIGERLEITHKASSR</th>\n",
       "      <td>2:::::::::::::::::::2222::::::::::11112:::::::...</td>\n",
       "      <td>126</td>\n",
       "      <td>256</td>\n",
       "      <td>d1adja2d1drw_2</td>\n",
       "      <td>d1adja2d1drw_2</td>\n",
       "    </tr>\n",
       "    <tr>\n",
       "      <th>SNITVERATLPVRAITKTLRDNGIPATISYSAYPLKAGFIHVPYTPDQVVNKFFLLGKNTPSMCLEAEIKAIELAVKVSLDYLEKDRDDIKIPLKPEIVINLGLAPTY</th>\n",
       "      <th>MPHLRFRAVEAHIVESLVPTLLNELSSLLSTARNAFTFELINTQYFAEGGVYPMVEVLWFGREQQTQDQIAQVITDQIRQLLGADSHLAVVFIPLQRTAYYLDGQHF</th>\n",
       "      <td>2::::::1111111:::::::::::::::::1111::::::::111...</td>\n",
       "      <td>127</td>\n",
       "      <td>257</td>\n",
       "      <td>d1a2za_d1u9da_</td>\n",
       "      <td>d1a2za_d1u9da_</td>\n",
       "    </tr>\n",
       "    <tr>\n",
       "      <th>DVLDEQLAGLAKAHPSLTLHQDPVYVTRADAPVAGKVALLSGGGSGHEPMHCGYIGQGMLSGACPGEI</th>\n",
       "      <th>DDKKTNWLKRIYRVRPCVKCKVAPRNWKVKNKHLRIYNMCKTCFNNSIDIGDDTYHGHDDWLMYADS</th>\n",
       "      <td>1:::::::::::::::1111111:::::::11::::::::::::::...</td>\n",
       "      <td>128</td>\n",
       "      <td>258</td>\n",
       "      <td>d1oi2a_d1uw1a_</td>\n",
       "      <td>d1oi2a_d1uw1a_</td>\n",
       "    </tr>\n",
       "    <tr>\n",
       "      <th>PPAKRPEQGLLRLRKGLDLYANLRPAQIFDVDILVVRELTGGNMFGDILSDEASQLTGSIGMLPSASLGEGRAMYEPIHGSA</th>\n",
       "      <th>SMKTLPKERRFETFSYLPPLSDRQIAAQIEYMIEQGFHPLIEFNEHSNPEEFYWTMWKLPLFACAAPQQVLDEVRECRSEYGDCYIRVAGFDNIKECQTSSFIVHRPGR</th>\n",
       "      <td>111111111111111111:::::::::::::::::::2::::::::...</td>\n",
       "      <td>129</td>\n",
       "      <td>259</td>\n",
       "      <td>d1a05a_d1rblm_</td>\n",
       "      <td>d1a05a_d1rblm_</td>\n",
       "    </tr>\n",
       "  </tbody>\n",
       "</table>\n",
       "<p>130 rows × 5 columns</p>\n",
       "</div>"
      ],
      "text/plain": [
       "                                                                                                                                                       2  \\\n",
       "0                                                  1                                                                                                       \n",
       "SPYVLPVPFLNVLNGGSHAGGALALQEFMIAPTGAKTFAEALRIGSE... EEVTIKANLIFANGSTQTAEFKGTFEKATSEAYAYADTLKKDNGEWT...  222::::::::::::22222222::::::::::22:::::::::::...   \n",
       "YSNITVERATLPVRAITKTLRDNGIPATISYSAYPLKAGFIHVPYTP... MRIEVTIAKTSPLPAGAIDALAGELSRRIQYAFPDNEGHVSVRYAAA...  2:::::::111111::::::::::::::::11111111::::::::...   \n",
       "KGGFNSLVLNFVEKEDLSQDEIEELRNILNKKKGGFNSLVLNFVEKE... AADVVPATIARFKQLSAEDQLALIWFAYLEMGKTITLSANANAILVT...  ::::::::::::::22::::::::::::::::111111::::::::...   \n",
       "ARPCIPKSFGYSSVVCVCNASPPAQNLLLKSYFSEEGIGYSPIIVDI... IPPQILKEGKNAVLSFIAGLFDAEGHVSNKPGIELGMVNKRLIEDVT...  111111111111111111111:::::::::2222:::::::11:::...   \n",
       "GFSLRREPKTVHASGGSAQLGQTVAHDVAQSGRKHLLSLRFANVQGH... NEKLFTAWFSDLTPETLVTRNKAQLKAFWEKHSDIILKPLDGMGGAS...  11111111::::::::::::2222222::::::::::::2::::::...   \n",
       "...                                                                                                                                                  ...   \n",
       "LPASIFRAYDIRGVVGDTLTAETAYWIGRAIGSESLARGEGKSGVML... AESSLRVISKEKNSITVEMINYDNTLLRTLVEEILKDDQVDEARYYI...  1::::::1::1111:::::::222:::::::::::::::::22222...   \n",
       "SENPILDAEAVVLLYECLKELGLRRLKVKLSSVGLGEEARAHLKEVE... VGVNVMLKLLEKAAKVMGDYTDIEIIEAHHRHKVDAPSGTALAMGEA...  2:::::::::::::::::::2222::::::::::11112:::::::...   \n",
       "SNITVERATLPVRAITKTLRDNGIPATISYSAYPLKAGFIHVPYTPD... MPHLRFRAVEAHIVESLVPTLLNELSSLLSTARNAFTFELINTQYFA...  2::::::1111111:::::::::::::::::1111::::::::111...   \n",
       "DVLDEQLAGLAKAHPSLTLHQDPVYVTRADAPVAGKVALLSGGGSGH... DDKKTNWLKRIYRVRPCVKCKVAPRNWKVKNKHLRIYNMCKTCFNNS...  1:::::::::::::::1111111:::::::11::::::::::::::...   \n",
       "PPAKRPEQGLLRLRKGLDLYANLRPAQIFDVDILVVRELTGGNMFGD... SMKTLPKERRFETFSYLPPLSDRQIAAQIEYMIEQGFHPLIEFNEHS...  111111111111111111:::::::::::::::::::2::::::::...   \n",
       "\n",
       "                                                                                                      query_id  \\\n",
       "0                                                  1                                                             \n",
       "SPYVLPVPFLNVLNGGSHAGGALALQEFMIAPTGAKTFAEALRIGSE... EEVTIKANLIFANGSTQTAEFKGTFEKATSEAYAYADTLKKDNGEWT...        0   \n",
       "YSNITVERATLPVRAITKTLRDNGIPATISYSAYPLKAGFIHVPYTP... MRIEVTIAKTSPLPAGAIDALAGELSRRIQYAFPDNEGHVSVRYAAA...        1   \n",
       "KGGFNSLVLNFVEKEDLSQDEIEELRNILNKKKGGFNSLVLNFVEKE... AADVVPATIARFKQLSAEDQLALIWFAYLEMGKTITLSANANAILVT...        2   \n",
       "ARPCIPKSFGYSSVVCVCNASPPAQNLLLKSYFSEEGIGYSPIIVDI... IPPQILKEGKNAVLSFIAGLFDAEGHVSNKPGIELGMVNKRLIEDVT...        3   \n",
       "GFSLRREPKTVHASGGSAQLGQTVAHDVAQSGRKHLLSLRFANVQGH... NEKLFTAWFSDLTPETLVTRNKAQLKAFWEKHSDIILKPLDGMGGAS...        4   \n",
       "...                                                                                                        ...   \n",
       "LPASIFRAYDIRGVVGDTLTAETAYWIGRAIGSESLARGEGKSGVML... AESSLRVISKEKNSITVEMINYDNTLLRTLVEEILKDDQVDEARYYI...      125   \n",
       "SENPILDAEAVVLLYECLKELGLRRLKVKLSSVGLGEEARAHLKEVE... VGVNVMLKLLEKAAKVMGDYTDIEIIEAHHRHKVDAPSGTALAMGEA...      126   \n",
       "SNITVERATLPVRAITKTLRDNGIPATISYSAYPLKAGFIHVPYTPD... MPHLRFRAVEAHIVESLVPTLLNELSSLLSTARNAFTFELINTQYFA...      127   \n",
       "DVLDEQLAGLAKAHPSLTLHQDPVYVTRADAPVAGKVALLSGGGSGH... DDKKTNWLKRIYRVRPCVKCKVAPRNWKVKNKHLRIYNMCKTCFNNS...      128   \n",
       "PPAKRPEQGLLRLRKGLDLYANLRPAQIFDVDILVVRELTGGNMFGD... SMKTLPKERRFETFSYLPPLSDRQIAAQIEYMIEQGFHPLIEFNEHS...      129   \n",
       "\n",
       "                                                                                                      hit_id  \\\n",
       "0                                                  1                                                           \n",
       "SPYVLPVPFLNVLNGGSHAGGALALQEFMIAPTGAKTFAEALRIGSE... EEVTIKANLIFANGSTQTAEFKGTFEKATSEAYAYADTLKKDNGEWT...    130   \n",
       "YSNITVERATLPVRAITKTLRDNGIPATISYSAYPLKAGFIHVPYTP... MRIEVTIAKTSPLPAGAIDALAGELSRRIQYAFPDNEGHVSVRYAAA...    131   \n",
       "KGGFNSLVLNFVEKEDLSQDEIEELRNILNKKKGGFNSLVLNFVEKE... AADVVPATIARFKQLSAEDQLALIWFAYLEMGKTITLSANANAILVT...    132   \n",
       "ARPCIPKSFGYSSVVCVCNASPPAQNLLLKSYFSEEGIGYSPIIVDI... IPPQILKEGKNAVLSFIAGLFDAEGHVSNKPGIELGMVNKRLIEDVT...    133   \n",
       "GFSLRREPKTVHASGGSAQLGQTVAHDVAQSGRKHLLSLRFANVQGH... NEKLFTAWFSDLTPETLVTRNKAQLKAFWEKHSDIILKPLDGMGGAS...    134   \n",
       "...                                                                                                      ...   \n",
       "LPASIFRAYDIRGVVGDTLTAETAYWIGRAIGSESLARGEGKSGVML... AESSLRVISKEKNSITVEMINYDNTLLRTLVEEILKDDQVDEARYYI...    255   \n",
       "SENPILDAEAVVLLYECLKELGLRRLKVKLSSVGLGEEARAHLKEVE... VGVNVMLKLLEKAAKVMGDYTDIEIIEAHHRHKVDAPSGTALAMGEA...    256   \n",
       "SNITVERATLPVRAITKTLRDNGIPATISYSAYPLKAGFIHVPYTPD... MPHLRFRAVEAHIVESLVPTLLNELSSLLSTARNAFTFELINTQYFA...    257   \n",
       "DVLDEQLAGLAKAHPSLTLHQDPVYVTRADAPVAGKVALLSGGGSGH... DDKKTNWLKRIYRVRPCVKCKVAPRNWKVKNKHLRIYNMCKTCFNNS...    258   \n",
       "PPAKRPEQGLLRLRKGLDLYANLRPAQIFDVDILVVRELTGGNMFGD... SMKTLPKERRFETFSYLPPLSDRQIAAQIEYMIEQGFHPLIEFNEHS...    259   \n",
       "\n",
       "                                                                                                                  pdb  \\\n",
       "0                                                  1                                                                    \n",
       "SPYVLPVPFLNVLNGGSHAGGALALQEFMIAPTGAKTFAEALRIGSE... EEVTIKANLIFANGSTQTAEFKGTFEKATSEAYAYADTLKKDNGEWT...  d2onea1d1hz6b_   \n",
       "YSNITVERATLPVRAITKTLRDNGIPATISYSAYPLKAGFIHVPYTP... MRIEVTIAKTSPLPAGAIDALAGELSRRIQYAFPDNEGHVSVRYAAA...  d1a2za_d1ghha_   \n",
       "KGGFNSLVLNFVEKEDLSQDEIEELRNILNKKKGGFNSLVLNFVEKE... AADVVPATIARFKQLSAEDQLALIWFAYLEMGKTITLSANANAILVT...  d1okra_d1m98a1   \n",
       "ARPCIPKSFGYSSVVCVCNASPPAQNLLLKSYFSEEGIGYSPIIVDI... IPPQILKEGKNAVLSFIAGLFDAEGHVSNKPGIELGMVNKRLIEDVT...  d1ogsa2d1dq3a4   \n",
       "GFSLRREPKTVHASGGSAQLGQTVAHDVAQSGRKHLLSLRFANVQGH... NEKLFTAWFSDLTPETLVTRNKAQLKAFWEKHSDIILKPLDGMGGAS...  d1ukfa_d1gsa_2   \n",
       "...                                                                                                               ...   \n",
       "LPASIFRAYDIRGVVGDTLTAETAYWIGRAIGSESLARGEGKSGVML... AESSLRVISKEKNSITVEMINYDNTLLRTLVEEILKDDQVDEARYYI...  d1p5gx1d1xppa_   \n",
       "SENPILDAEAVVLLYECLKELGLRRLKVKLSSVGLGEEARAHLKEVE... VGVNVMLKLLEKAAKVMGDYTDIEIIEAHHRHKVDAPSGTALAMGEA...  d1adja2d1drw_2   \n",
       "SNITVERATLPVRAITKTLRDNGIPATISYSAYPLKAGFIHVPYTPD... MPHLRFRAVEAHIVESLVPTLLNELSSLLSTARNAFTFELINTQYFA...  d1a2za_d1u9da_   \n",
       "DVLDEQLAGLAKAHPSLTLHQDPVYVTRADAPVAGKVALLSGGGSGH... DDKKTNWLKRIYRVRPCVKCKVAPRNWKVKNKHLRIYNMCKTCFNNS...  d1oi2a_d1uw1a_   \n",
       "PPAKRPEQGLLRLRKGLDLYANLRPAQIFDVDILVVRELTGGNMFGD... SMKTLPKERRFETFSYLPPLSDRQIAAQIEYMIEQGFHPLIEFNEHS...  d1a05a_d1rblm_   \n",
       "\n",
       "                                                                                                                  dir  \n",
       "0                                                  1                                                                   \n",
       "SPYVLPVPFLNVLNGGSHAGGALALQEFMIAPTGAKTFAEALRIGSE... EEVTIKANLIFANGSTQTAEFKGTFEKATSEAYAYADTLKKDNGEWT...  d2onea1d1hz6b_  \n",
       "YSNITVERATLPVRAITKTLRDNGIPATISYSAYPLKAGFIHVPYTP... MRIEVTIAKTSPLPAGAIDALAGELSRRIQYAFPDNEGHVSVRYAAA...  d1a2za_d1ghha_  \n",
       "KGGFNSLVLNFVEKEDLSQDEIEELRNILNKKKGGFNSLVLNFVEKE... AADVVPATIARFKQLSAEDQLALIWFAYLEMGKTITLSANANAILVT...  d1okra_d1m98a1  \n",
       "ARPCIPKSFGYSSVVCVCNASPPAQNLLLKSYFSEEGIGYSPIIVDI... IPPQILKEGKNAVLSFIAGLFDAEGHVSNKPGIELGMVNKRLIEDVT...  d1ogsa2d1dq3a4  \n",
       "GFSLRREPKTVHASGGSAQLGQTVAHDVAQSGRKHLLSLRFANVQGH... NEKLFTAWFSDLTPETLVTRNKAQLKAFWEKHSDIILKPLDGMGGAS...  d1ukfa_d1gsa_2  \n",
       "...                                                                                                               ...  \n",
       "LPASIFRAYDIRGVVGDTLTAETAYWIGRAIGSESLARGEGKSGVML... AESSLRVISKEKNSITVEMINYDNTLLRTLVEEILKDDQVDEARYYI...  d1p5gx1d1xppa_  \n",
       "SENPILDAEAVVLLYECLKELGLRRLKVKLSSVGLGEEARAHLKEVE... VGVNVMLKLLEKAAKVMGDYTDIEIIEAHHRHKVDAPSGTALAMGEA...  d1adja2d1drw_2  \n",
       "SNITVERATLPVRAITKTLRDNGIPATISYSAYPLKAGFIHVPYTPD... MPHLRFRAVEAHIVESLVPTLLNELSSLLSTARNAFTFELINTQYFA...  d1a2za_d1u9da_  \n",
       "DVLDEQLAGLAKAHPSLTLHQDPVYVTRADAPVAGKVALLSGGGSGH... DDKKTNWLKRIYRVRPCVKCKVAPRNWKVKNKHLRIYNMCKTCFNNS...  d1oi2a_d1uw1a_  \n",
       "PPAKRPEQGLLRLRKGLDLYANLRPAQIFDVDILVVRELTGGNMFGD... SMKTLPKERRFETFSYLPPLSDRQIAAQIEYMIEQGFHPLIEFNEHS...  d1a05a_d1rblm_  \n",
       "\n",
       "[130 rows x 5 columns]"
      ]
     },
     "execution_count": 16,
     "metadata": {},
     "output_type": "execute_result"
    }
   ],
   "source": [
    "manual"
   ]
  },
  {
   "cell_type": "code",
   "execution_count": 14,
   "metadata": {},
   "outputs": [],
   "source": [
    "# Saving the alignment\n",
    "manual = manual.set_index([0, 1])\n",
    "pd.merge(manual[['pdb', 'dir']], res, left_index=True, right_index=True).to_csv('malisam_alignments.csv')"
   ]
  },
  {
   "cell_type": "markdown",
   "metadata": {},
   "source": [
    "Parse BLAST and HMMER"
   ]
  },
  {
   "cell_type": "code",
   "execution_count": null,
   "metadata": {},
   "outputs": [],
   "source": [
    "# Blast and HMMER\n",
    "from deepblast.dataset.parse_hmmer import get_hmmer_alignments\n",
    "from deepblast.dataset.parse_blast import get_blast_alignments\n",
    "\n",
    "hmmer_path = f'../results/hmmer/{benchmark}-hmm.out'\n",
    "blast_path = f'../results/blast/{benchmark}_blast_alignments.xml'\n",
    "\n",
    "hmmer_df = get_hmmer_alignments(hmmer_path, mali_root)\n",
    "blast_df = get_blast_alignments(blast_path, mali_root)\n",
    "\n",
    "ref = read_mali(mali_root, tool='manual', report_ids=True)\n",
    "ref = ref.set_index(['query_id', 'hit_id'])\n",
    "\n",
    "ref_hmmer = pd.merge(ref, hmmer_df.set_index(['query_id', 'hit_id']), \n",
    "                     left_index=True, right_index=True, how='left')\n",
    "ref_hmmer = ref_hmmer.rename(columns={2: 'manual'})\n",
    "ref_blast = pd.merge(ref, blast_df.set_index(['query_id', 'hit_id']), \n",
    "                     left_index=True, right_index=True, how='left')\n",
    "ref_blast = ref_blast.rename(columns={2: 'manual'})\n",
    "\n",
    "# clean up types\n",
    "\n",
    "ref_blast = ref_blast.fillna(-1)\n",
    "ref_blast['query_start'] = ref_blast['query_start'].astype(np.int64)\n",
    "ref_blast['hit_start'] = ref_blast['hit_start'].astype(np.int64)\n",
    "\n",
    "ref_hmmer = ref_hmmer.fillna(-1)\n",
    "ref_hmmer['query_start'] = ref_hmmer['query_start'].astype(np.int64)\n",
    "ref_hmmer['hit_start'] = ref_hmmer['hit_start'].astype(np.int64)"
   ]
  },
  {
   "cell_type": "markdown",
   "metadata": {},
   "source": [
    "Define scoring functions with predefined kernels, and parallelize with Dask."
   ]
  },
  {
   "cell_type": "code",
   "execution_count": 9,
   "metadata": {},
   "outputs": [],
   "source": [
    "import dask.dataframe as dd\n",
    "\n",
    "def score_local_identity(x, k):\n",
    "    if x['query_start'] < 0 :\n",
    "        return [0.] * len(k)\n",
    "    else:\n",
    "        return alignment_score_kernel(x['manual'], x['aln'], kernel_widths=k, \n",
    "                                      query_offset=x['query_start'],\n",
    "                                      hit_offset=x['hit_start'])\n",
    "\n",
    "def score_local_alignment(df, k, n_cores=4):\n",
    "    df2 = dd.from_pandas(df, npartitions=n_cores)\n",
    "    func = lambda x: score_local_identity(x, k)\n",
    "    res = df2.apply(func, axis=1)\n",
    "    resdf = res.compute(scheduler='processes')\n",
    "    return pd.DataFrame(list(resdf.values), columns=k)\n",
    "\n",
    "def score_global_alignment(df, col, k, n_cores=4):\n",
    "    df2 = dd.from_pandas(df, npartitions=n_cores)\n",
    "    func = lambda x: alignment_score_kernel(x['manual'], x[col], k)\n",
    "    res = df2.apply(func, axis=1)\n",
    "    resdf = res.compute(scheduler='processes')\n",
    "    return pd.DataFrame(list(resdf.values), columns=k)"
   ]
  },
  {
   "cell_type": "markdown",
   "metadata": {},
   "source": [
    "Obtain local and global alignment stats"
   ]
  },
  {
   "cell_type": "code",
   "execution_count": 10,
   "metadata": {},
   "outputs": [],
   "source": [
    "import warnings\n",
    "warnings.filterwarnings(\"ignore\")\n",
    "k = [1, 3, 5, 10]\n",
    "\n",
    "# Obtain local alignment stats in parallel\n",
    "blast_stats = score_local_alignment(ref_blast.reset_index(), k, n_cores=30)\n",
    "hmmer_stats = score_local_alignment(ref_hmmer.reset_index(), k, n_cores=30)\n",
    "\n",
    "# Global alignments\n",
    "fast_stats = score_global_alignment(res.reset_index(), 'fast', k, n_cores=30)\n",
    "tm_stats = score_global_alignment(res.reset_index(), 'tm', k, n_cores=30)\n",
    "dali_stats = score_global_alignment(res.reset_index(), 'dali', k, n_cores=30)\n",
    "deep_stats = score_global_alignment(res.reset_index(), 'deepblast', k, n_cores=30)\n",
    "nw_stats = score_global_alignment(res.reset_index(), 'needleman-wunsch', k, n_cores=30)"
   ]
  },
  {
   "cell_type": "code",
   "execution_count": 11,
   "metadata": {},
   "outputs": [],
   "source": [
    "mam_stats = score_global_alignment(res.reset_index(), 'mammoth', k, n_cores=30)"
   ]
  },
  {
   "cell_type": "markdown",
   "metadata": {},
   "source": [
    "Perform some dataset massaging to plot."
   ]
  },
  {
   "cell_type": "code",
   "execution_count": 12,
   "metadata": {},
   "outputs": [],
   "source": [
    "fast_stats['tool'] = 'fast'\n",
    "tm_stats['tool'] = 'tm'\n",
    "dali_stats['tool'] = 'dali'\n",
    "deep_stats['tool'] = 'deepblast'\n",
    "nw_stats['tool'] = 'nw'\n",
    "blast_stats['tool'] = 'blast'\n",
    "hmmer_stats['tool'] = 'hmmer'\n",
    "mam_stats['tool'] = 'mammoth'\n",
    "\n",
    "\n",
    "# add additional metadata regarding the pdb files\n",
    "manual = read_mali(mali_root, tool='manual', report_ids=True)\n",
    "fast_stats['pdb'] = manual['pdb']\n",
    "tm_stats['pdb'] = manual['pdb']\n",
    "dali_stats['pdb'] = manual['pdb']\n",
    "deep_stats['pdb'] = manual['pdb']\n",
    "nw_stats['pdb'] = manual['pdb']\n",
    "blast_stats['pdb'] = manual['pdb']\n",
    "hmmer_stats['pdb'] = manual['pdb']\n",
    "mam_stats['pdb'] = manual['pdb']\n",
    "\n",
    "\n",
    "# combine stats\n",
    "data = pd.concat((fast_stats, tm_stats, dali_stats, deep_stats, nw_stats, blast_stats, hmmer_stats, mam_stats))\n",
    "\n",
    "# save file locally for later\n",
    "data.to_csv(f'{benchmark}_perc_id.csv')\n",
    "\n",
    "# melt dataframe to make it easier to plot\n",
    "data = pd.melt(data, id_vars=['tool', 'pdb'], var_name='kernel_width')"
   ]
  },
  {
   "cell_type": "markdown",
   "metadata": {},
   "source": [
    "Now, let's plot the benchmark results."
   ]
  },
  {
   "cell_type": "code",
   "execution_count": 6,
   "metadata": {},
   "outputs": [],
   "source": [
    "# Run if need to regenerate figures from existing data\n",
    "benchmark = 'malidup'\n",
    "data = pd.read_csv('malidup_perc_id.csv', index_col=0)\n",
    "data = pd.melt(data, id_vars=['tool', 'pdb'], var_name='kernel_width')"
   ]
  },
  {
   "cell_type": "code",
   "execution_count": 13,
   "metadata": {},
   "outputs": [
    {
     "data": {
      "image/png": "[encoded data removed]",
      "text/plain": [
       "<Figure size 432x288 with 1 Axes>"
      ]
     },
     "metadata": {
      "needs_background": "light"
     },
     "output_type": "display_data"
    }
   ],
   "source": [
    "lookup = {'fast' : 'Fast', 'tm' : 'TM-align', 'dali' : 'Dali', \n",
    " 'mammoth': 'Mammoth', 'deepblast' : 'DeepBLAST', \n",
    " 'nw' : 'Needleman-Wunsch', 'blast' : 'BLAST', 'hmmer' : 'HMMER'}\n",
    "\n",
    "data['Method'] = data.apply(lambda x: lookup[x['tool']], axis=1)\n",
    "\n",
    "green = sns.light_palette(\"seagreen\")\n",
    "purple = sns.dark_palette(\"blue\", reverse=True)\n",
    "fig, ax = plt.subplots()\n",
    "palette = {\n",
    "    'Fast' : '#00838f',\n",
    "    'TM-align' : '#4dd0e1',\n",
    "    'Dali' : '#4db6ac',\n",
    "    'Mammoth' : '#81c784',\n",
    "    'DeepBLAST': 'r',\n",
    "    'Needleman-Wunsch' : '#ad1457', \n",
    "    'BLAST' : '#6a1b9a',\n",
    "    'HMMER' : '#283593'\n",
    "}\n",
    "sns.lineplot(data=data, x='kernel_width', y='value', hue='Method', ax=ax,\n",
    "             palette=palette, hue_order=['Fast', 'TM-align', 'Dali', 'Mammoth', \n",
    "                                         'DeepBLAST', 'Needleman-Wunsch', 'BLAST', 'HMMER'])\n",
    "\n",
    "ax.set_ylabel('Percent Identity')\n",
    "\n",
    "box = ax.get_position()\n",
    "ax.set_position([box.x0, box.y0, box.width * 0.8, box.height])\n",
    "\n",
    "ax.set_ylabel('True Positive Rate', fontsize=18)\n",
    "ax.set_xlabel('Kernel Width', fontsize=18)\n",
    "ax.tick_params(labelsize=14)\n",
    "\n",
    "# Put a legend to the right of the current axis\n",
    "ax.legend(loc='center left', bbox_to_anchor=(1, 0.5), prop={'size': 18})\n",
    "fig.savefig(f'{benchmark}.png', bbox_inches='tight')"
   ]
  },
  {
   "cell_type": "markdown",
   "metadata": {},
   "source": [
    "Other statistics to plot"
   ]
  },
  {
   "cell_type": "code",
   "execution_count": 14,
   "metadata": {},
   "outputs": [],
   "source": [
    "columns = [\n",
    "        'val_tp', 'val_fp', 'val_fn', 'val_perc_id',\n",
    "        'val_ppv', 'val_fnr', 'val_fdr'\n",
    "]\n",
    "\n",
    "fast_stats = pd.DataFrame(list(res.apply(lambda x: alignment_score(x['manual'], x['fast']), axis=1).values), \n",
    "                          columns=columns)\n",
    "tm_stats   = pd.DataFrame(list(res.apply(lambda x: alignment_score(x['manual'], x['tm']), axis=1).values), \n",
    "                          columns=columns)\n",
    "dali_stats = pd.DataFrame(list(res.apply(lambda x: alignment_score(x['manual'], x['dali']), axis=1).values), \n",
    "                          columns=columns)\n",
    "mam_stats = pd.DataFrame(list(res.apply(lambda x: alignment_score(x['manual'], x['mammoth']), axis=1).values), \n",
    "                          columns=columns)\n",
    "deep_stats = pd.DataFrame(list(res.apply(lambda x: alignment_score(x['manual'], x['deepblast']), axis=1).values), \n",
    "                          columns=columns)\n",
    "nw_stats = pd.DataFrame(list(res.apply(lambda x: alignment_score(x['manual'], x['needleman-wunsch']), axis=1).values), \n",
    "                          columns=columns)"
   ]
  },
  {
   "cell_type": "code",
   "execution_count": 15,
   "metadata": {},
   "outputs": [],
   "source": [
    "def local_alignment_score(x):\n",
    "    if x['aln'] == -1:\n",
    "        n_matches = np.sum(np.array(list(x['manual'])) == ':')\n",
    "        return 0, np.nan, n_matches, 0, 0, 1, 0\n",
    "    else:\n",
    "        return alignment_score(x['manual'], x['aln'])"
   ]
  },
  {
   "cell_type": "code",
   "execution_count": 16,
   "metadata": {},
   "outputs": [],
   "source": [
    "blast_stats = pd.DataFrame(list(ref_blast.apply(local_alignment_score, axis=1).values), \n",
    "                           columns=columns)\n",
    "hmmer_stats = pd.DataFrame(list(ref_hmmer.apply(local_alignment_score, axis=1).values), \n",
    "                           columns=columns)"
   ]
  },
  {
   "cell_type": "code",
   "execution_count": 17,
   "metadata": {},
   "outputs": [],
   "source": [
    "fast_stats['tool'] = 'fast'\n",
    "tm_stats['tool'] = 'tm'\n",
    "dali_stats['tool'] = 'dali'\n",
    "mam_stats['tool'] = 'mammoth'\n",
    "deep_stats['tool'] = 'deepblast'\n",
    "nw_stats['tool'] = 'nw'\n",
    "blast_stats['tool'] = 'blast'\n",
    "hmmer_stats['tool'] = 'hmmer'\n",
    "data = pd.concat((fast_stats, tm_stats, dali_stats, mam_stats, deep_stats, nw_stats, blast_stats, hmmer_stats))\n",
    "data.to_csv(f'{benchmark}_allstats.csv')"
   ]
  },
  {
   "cell_type": "code",
   "execution_count": 14,
   "metadata": {},
   "outputs": [],
   "source": [
    "# read in locally to save time\n",
    "data = pd.read_csv(f'{benchmark}_allstats.csv', index_col=0)"
   ]
  },
  {
   "cell_type": "code",
   "execution_count": 16,
   "metadata": {},
   "outputs": [
    {
     "name": "stderr",
     "output_type": "stream",
     "text": [
      "<ipython-input-16-30784335f682>:2: SettingWithCopyWarning: \n",
      "A value is trying to be set on a copy of a slice from a DataFrame.\n",
      "Try using .loc[row_indexer,col_indexer] = value instead\n",
      "\n",
      "See the caveats in the documentation: https://pandas.pydata.org/pandas-docs/stable/user_guide/indexing.html#returning-a-view-versus-a-copy\n",
      "  data['precision'] = data.apply(lambda x: x['val_tp'] / (x['val_tp'] + x['val_fp']), axis=1)\n",
      "<ipython-input-16-30784335f682>:3: SettingWithCopyWarning: \n",
      "A value is trying to be set on a copy of a slice from a DataFrame.\n",
      "Try using .loc[row_indexer,col_indexer] = value instead\n",
      "\n",
      "See the caveats in the documentation: https://pandas.pydata.org/pandas-docs/stable/user_guide/indexing.html#returning-a-view-versus-a-copy\n",
      "  data['recall'] = data.apply(lambda x: x['val_tp'] / (x['val_tp'] + x['val_fn']), axis=1)\n",
      "<ipython-input-16-30784335f682>:4: SettingWithCopyWarning: \n",
      "A value is trying to be set on a copy of a slice from a DataFrame.\n",
      "Try using .loc[row_indexer,col_indexer] = value instead\n",
      "\n",
      "See the caveats in the documentation: https://pandas.pydata.org/pandas-docs/stable/user_guide/indexing.html#returning-a-view-versus-a-copy\n",
      "  data['f1'] = data.apply(lambda x: 2 / ((1 / x['precision']) + (1 / x['recall'])), axis=1)\n"
     ]
    }
   ],
   "source": [
    "data = data.dropna()\n",
    "data['precision'] = data.apply(lambda x: x['val_tp'] / (x['val_tp'] + x['val_fp']), axis=1)\n",
    "data['recall'] = data.apply(lambda x: x['val_tp'] / (x['val_tp'] + x['val_fn']), axis=1)\n",
    "data['f1'] = data.apply(lambda x: 2 / ((1 / x['precision']) + (1 / x['recall'])), axis=1)"
   ]
  },
  {
   "cell_type": "code",
   "execution_count": 22,
   "metadata": {},
   "outputs": [
    {
     "data": {
      "text/html": [
       "<div>\n",
       "<style scoped>\n",
       "    .dataframe tbody tr th:only-of-type {\n",
       "        vertical-align: middle;\n",
       "    }\n",
       "\n",
       "    .dataframe tbody tr th {\n",
       "        vertical-align: top;\n",
       "    }\n",
       "\n",
       "    .dataframe thead th {\n",
       "        text-align: right;\n",
       "    }\n",
       "</style>\n",
       "<table border=\"1\" class=\"dataframe\">\n",
       "  <thead>\n",
       "    <tr style=\"text-align: right;\">\n",
       "      <th></th>\n",
       "      <th>val_tp</th>\n",
       "      <th>val_fp</th>\n",
       "      <th>val_fn</th>\n",
       "      <th>val_perc_id</th>\n",
       "      <th>val_ppv</th>\n",
       "      <th>val_fnr</th>\n",
       "      <th>val_fdr</th>\n",
       "      <th>tool</th>\n",
       "      <th>precision</th>\n",
       "      <th>recall</th>\n",
       "      <th>f1</th>\n",
       "    </tr>\n",
       "  </thead>\n",
       "  <tbody>\n",
       "    <tr>\n",
       "      <th>0</th>\n",
       "      <td>67</td>\n",
       "      <td>92.0</td>\n",
       "      <td>65</td>\n",
       "      <td>0.507576</td>\n",
       "      <td>0.421384</td>\n",
       "      <td>0.492424</td>\n",
       "      <td>0.578616</td>\n",
       "      <td>fast</td>\n",
       "      <td>0.421384</td>\n",
       "      <td>0.507576</td>\n",
       "      <td>0.460481</td>\n",
       "    </tr>\n",
       "    <tr>\n",
       "      <th>1</th>\n",
       "      <td>135</td>\n",
       "      <td>151.0</td>\n",
       "      <td>114</td>\n",
       "      <td>0.542169</td>\n",
       "      <td>0.472028</td>\n",
       "      <td>0.457831</td>\n",
       "      <td>0.527972</td>\n",
       "      <td>fast</td>\n",
       "      <td>0.472028</td>\n",
       "      <td>0.542169</td>\n",
       "      <td>0.504673</td>\n",
       "    </tr>\n",
       "    <tr>\n",
       "      <th>2</th>\n",
       "      <td>50</td>\n",
       "      <td>0.0</td>\n",
       "      <td>0</td>\n",
       "      <td>1.000000</td>\n",
       "      <td>1.000000</td>\n",
       "      <td>0.000000</td>\n",
       "      <td>0.000000</td>\n",
       "      <td>fast</td>\n",
       "      <td>1.000000</td>\n",
       "      <td>1.000000</td>\n",
       "      <td>1.000000</td>\n",
       "    </tr>\n",
       "    <tr>\n",
       "      <th>3</th>\n",
       "      <td>49</td>\n",
       "      <td>21.0</td>\n",
       "      <td>11</td>\n",
       "      <td>0.816667</td>\n",
       "      <td>0.700000</td>\n",
       "      <td>0.183333</td>\n",
       "      <td>0.300000</td>\n",
       "      <td>fast</td>\n",
       "      <td>0.700000</td>\n",
       "      <td>0.816667</td>\n",
       "      <td>0.753846</td>\n",
       "    </tr>\n",
       "    <tr>\n",
       "      <th>4</th>\n",
       "      <td>160</td>\n",
       "      <td>3.0</td>\n",
       "      <td>3</td>\n",
       "      <td>0.981595</td>\n",
       "      <td>0.981595</td>\n",
       "      <td>0.018405</td>\n",
       "      <td>0.018405</td>\n",
       "      <td>fast</td>\n",
       "      <td>0.981595</td>\n",
       "      <td>0.981595</td>\n",
       "      <td>0.981595</td>\n",
       "    </tr>\n",
       "    <tr>\n",
       "      <th>...</th>\n",
       "      <td>...</td>\n",
       "      <td>...</td>\n",
       "      <td>...</td>\n",
       "      <td>...</td>\n",
       "      <td>...</td>\n",
       "      <td>...</td>\n",
       "      <td>...</td>\n",
       "      <td>...</td>\n",
       "      <td>...</td>\n",
       "      <td>...</td>\n",
       "      <td>...</td>\n",
       "    </tr>\n",
       "    <tr>\n",
       "      <th>236</th>\n",
       "      <td>1</td>\n",
       "      <td>100.0</td>\n",
       "      <td>87</td>\n",
       "      <td>0.011364</td>\n",
       "      <td>0.009901</td>\n",
       "      <td>0.988636</td>\n",
       "      <td>0.990099</td>\n",
       "      <td>hmmer</td>\n",
       "      <td>0.009901</td>\n",
       "      <td>0.011364</td>\n",
       "      <td>0.010582</td>\n",
       "    </tr>\n",
       "    <tr>\n",
       "      <th>237</th>\n",
       "      <td>40</td>\n",
       "      <td>61.0</td>\n",
       "      <td>115</td>\n",
       "      <td>0.258065</td>\n",
       "      <td>0.396040</td>\n",
       "      <td>0.741935</td>\n",
       "      <td>0.603960</td>\n",
       "      <td>hmmer</td>\n",
       "      <td>0.396040</td>\n",
       "      <td>0.258065</td>\n",
       "      <td>0.312500</td>\n",
       "    </tr>\n",
       "    <tr>\n",
       "      <th>239</th>\n",
       "      <td>1</td>\n",
       "      <td>100.0</td>\n",
       "      <td>274</td>\n",
       "      <td>0.003636</td>\n",
       "      <td>0.009901</td>\n",
       "      <td>0.996364</td>\n",
       "      <td>0.990099</td>\n",
       "      <td>hmmer</td>\n",
       "      <td>0.009901</td>\n",
       "      <td>0.003636</td>\n",
       "      <td>0.005319</td>\n",
       "    </tr>\n",
       "    <tr>\n",
       "      <th>241</th>\n",
       "      <td>14</td>\n",
       "      <td>87.0</td>\n",
       "      <td>33</td>\n",
       "      <td>0.297872</td>\n",
       "      <td>0.138614</td>\n",
       "      <td>0.702128</td>\n",
       "      <td>0.861386</td>\n",
       "      <td>hmmer</td>\n",
       "      <td>0.138614</td>\n",
       "      <td>0.297872</td>\n",
       "      <td>0.189189</td>\n",
       "    </tr>\n",
       "    <tr>\n",
       "      <th>242</th>\n",
       "      <td>1</td>\n",
       "      <td>100.0</td>\n",
       "      <td>77</td>\n",
       "      <td>0.012821</td>\n",
       "      <td>0.009901</td>\n",
       "      <td>0.987179</td>\n",
       "      <td>0.990099</td>\n",
       "      <td>hmmer</td>\n",
       "      <td>0.009901</td>\n",
       "      <td>0.012821</td>\n",
       "      <td>0.011173</td>\n",
       "    </tr>\n",
       "  </tbody>\n",
       "</table>\n",
       "<p>1562 rows × 11 columns</p>\n",
       "</div>"
      ],
      "text/plain": [
       "     val_tp  val_fp  val_fn  val_perc_id   val_ppv   val_fnr   val_fdr   tool  \\\n",
       "0        67    92.0      65     0.507576  0.421384  0.492424  0.578616   fast   \n",
       "1       135   151.0     114     0.542169  0.472028  0.457831  0.527972   fast   \n",
       "2        50     0.0       0     1.000000  1.000000  0.000000  0.000000   fast   \n",
       "3        49    21.0      11     0.816667  0.700000  0.183333  0.300000   fast   \n",
       "4       160     3.0       3     0.981595  0.981595  0.018405  0.018405   fast   \n",
       "..      ...     ...     ...          ...       ...       ...       ...    ...   \n",
       "236       1   100.0      87     0.011364  0.009901  0.988636  0.990099  hmmer   \n",
       "237      40    61.0     115     0.258065  0.396040  0.741935  0.603960  hmmer   \n",
       "239       1   100.0     274     0.003636  0.009901  0.996364  0.990099  hmmer   \n",
       "241      14    87.0      33     0.297872  0.138614  0.702128  0.861386  hmmer   \n",
       "242       1   100.0      77     0.012821  0.009901  0.987179  0.990099  hmmer   \n",
       "\n",
       "     precision    recall        f1  \n",
       "0     0.421384  0.507576  0.460481  \n",
       "1     0.472028  0.542169  0.504673  \n",
       "2     1.000000  1.000000  1.000000  \n",
       "3     0.700000  0.816667  0.753846  \n",
       "4     0.981595  0.981595  0.981595  \n",
       "..         ...       ...       ...  \n",
       "236   0.009901  0.011364  0.010582  \n",
       "237   0.396040  0.258065  0.312500  \n",
       "239   0.009901  0.003636  0.005319  \n",
       "241   0.138614  0.297872  0.189189  \n",
       "242   0.009901  0.012821  0.011173  \n",
       "\n",
       "[1562 rows x 11 columns]"
      ]
     },
     "execution_count": 22,
     "metadata": {},
     "output_type": "execute_result"
    }
   ],
   "source": [
    "data"
   ]
  },
  {
   "cell_type": "code",
   "execution_count": 24,
   "metadata": {},
   "outputs": [
    {
     "data": {
      "text/plain": [
       "<matplotlib.axes._subplots.AxesSubplot at 0x7f0c5c04a430>"
      ]
     },
     "execution_count": 24,
     "metadata": {},
     "output_type": "execute_result"
    },
    {
     "data": {
      "image/png": "[encoded data removed]",
      "text/plain": [
       "<Figure size 432x288 with 1 Axes>"
      ]
     },
     "metadata": {
      "needs_background": "light"
     },
     "output_type": "display_data"
    }
   ],
   "source": [
    "sns.boxplot(data=data, y='recall', x='tool')"
   ]
  },
  {
   "cell_type": "code",
   "execution_count": null,
   "metadata": {},
   "outputs": [],
   "source": []
  },
  {
   "cell_type": "code",
   "execution_count": 19,
   "metadata": {},
   "outputs": [
    {
     "data": {
      "image/png": "[encoded data removed]",
      "text/plain": [
       "<Figure size 432x288 with 1 Axes>"
      ]
     },
     "metadata": {
      "needs_background": "light"
     },
     "output_type": "display_data"
    }
   ],
   "source": [
    "green = sns.light_palette(\"seagreen\")\n",
    "purple = sns.dark_palette(\"blue\", reverse=True)\n",
    "fig, ax = plt.subplots()\n",
    "palette = {\n",
    "    'fast' : '#00838f',\n",
    "    'tm' : '#4dd0e1',\n",
    "    'dali' : '#4db6ac',\n",
    "    'mammoth' : '#81c784',\n",
    "    'deepblast': 'r',\n",
    "    'nw' : '#ad1457', \n",
    "    'blast' : '#6a1b9a',\n",
    "    'hmmer' : '#283593'\n",
    "}\n",
    "sns.lineplot(data=data, x='precision', y='recall', hue='tool', ax=ax,\n",
    "             palette=palette, hue_order=['fast', 'tm', 'dali', 'mammoth', 'deepblast', 'nw'])\n",
    "\n",
    "box = ax.get_position()\n",
    "ax.set_position([box.x0, box.y0, box.width * 0.8, box.height])\n",
    "\n",
    "# Put a legend to the right of the current axis\n",
    "ax.legend(loc='center left', bbox_to_anchor=(1, 0.5))\n",
    "fig.savefig(f'{benchmark}_pr_curve.png')"
   ]
  },
  {
   "cell_type": "code",
   "execution_count": 20,
   "metadata": {},
   "outputs": [
    {
     "name": "stdout",
     "output_type": "stream",
     "text": [
      "\\begin{tabular}{lr}\n",
      "\\toprule\n",
      "{} &        f1 \\\\\n",
      "tool      &           \\\\\n",
      "\\midrule\n",
      "blast     &  0.138105 \\\\\n",
      "dali      &  0.741813 \\\\\n",
      "deepblast &  0.162822 \\\\\n",
      "fast      &  0.516061 \\\\\n",
      "hmmer     &  0.109583 \\\\\n",
      "mammoth   &  0.456971 \\\\\n",
      "nw        &  0.042504 \\\\\n",
      "tm        &  0.561508 \\\\\n",
      "\\bottomrule\n",
      "\\end{tabular}\n",
      "\n"
     ]
    }
   ],
   "source": [
    "print(data.groupby(['tool']).mean()['f1'].to_latex())"
   ]
  },
  {
   "cell_type": "markdown",
   "metadata": {},
   "source": [
    "# Other scratch work"
   ]
  },
  {
   "cell_type": "raw",
   "metadata": {},
   "source": [
    "def roc_edges_kernel_identity(true_edges, pred_edges, kernel_width):\n",
    "    pe_ = pred_edges\n",
    "    pe = np.array(pred_edges)\n",
    "    for k in range(kernel_width):\n",
    "        pred_edges_k_pos = pe + k\n",
    "        pred_edges_k_neg = pe - k\n",
    "        pe_ += list(map(tuple, pred_edges_k_pos))\n",
    "        pe_ += list(map(tuple, pred_edges_k_neg))\n",
    "\n",
    "    truth = set(true_edges)\n",
    "    pred = set(pe_)\n",
    "    tp = len(truth & pred)\n",
    "    perc_id = tp / len(true_edges)\n",
    "    return perc_id\n",
    "\n",
    "\n",
    "def alignment_score_kernel(true_states: str, pred_states: str, kernel_widths : list,\n",
    "                           query_offset : int = 0, hit_offset : int = 0):\n",
    "    \"\"\"\n",
    "    Computes ROC statistics on alignment\n",
    "\n",
    "    Parameters\n",
    "    ----------\n",
    "    true_states : str\n",
    "        Ground truth state string\n",
    "    pred_states : str\n",
    "        Predicted state string\n",
    "    \"\"\"\n",
    "\n",
    "    pred_states = list(map(tmstate_f, pred_states))\n",
    "    true_states = list(map(tmstate_f, true_states))\n",
    "    pred_edges = states2edges(pred_states)\n",
    "    true_edges = states2edges(true_states)\n",
    "    # add offset to account for local alignments\n",
    "    true_edges = list(map(tuple, np.array(true_edges)))\n",
    "    pred_edges = np.array(pred_edges)\n",
    "    pred_edges[:, 0] += query_offset\n",
    "    pred_edges[:, 1] += hit_offset\n",
    "    pred_edges = list(map(tuple, pred_edges))\n",
    "\n",
    "    res = []\n",
    "    for k in kernel_widths:\n",
    "        r = roc_edges_kernel_identity(true_edges, pred_edges, k)\n",
    "        res.append(r)\n",
    "    return res\n"
   ]
  },
  {
   "cell_type": "code",
   "execution_count": 21,
   "metadata": {},
   "outputs": [],
   "source": [
    "columns = [\n",
    "        'val_tp', 'val_fp', 'val_fn', 'val_perc_id',\n",
    "        'val_ppv', 'val_fnr', 'val_fdr'\n",
    "]\n",
    "\n",
    "fast_stats = pd.DataFrame(list(res.apply(lambda x: alignment_score(x['manual'], x['fast']), axis=1).values), \n",
    "                          columns=columns)\n",
    "tm_stats   = pd.DataFrame(list(res.apply(lambda x: alignment_score(x['manual'], x['tm']), axis=1).values), \n",
    "                          columns=columns)\n",
    "dali_stats = pd.DataFrame(list(res.apply(lambda x: alignment_score(x['manual'], x['dali']), axis=1).values), \n",
    "                          columns=columns)\n",
    "deep_stats = pd.DataFrame(list(res.apply(lambda x: alignment_score(x['manual'], x['deepblast']), axis=1).values), \n",
    "                          columns=columns)\n",
    "nw_stats = pd.DataFrame(list(res.apply(lambda x: alignment_score(x['manual'], x['needleman-wunsch']), axis=1).values), \n",
    "                          columns=columns)"
   ]
  },
  {
   "cell_type": "code",
   "execution_count": 22,
   "metadata": {},
   "outputs": [
    {
     "data": {
      "text/plain": [
       "<matplotlib.legend.Legend at 0x7fb05bf324f0>"
      ]
     },
     "execution_count": 22,
     "metadata": {},
     "output_type": "execute_result"
    },
    {
     "data": {
      "image/png": "[encoded data removed]",
      "text/plain": [
       "<Figure size 432x288 with 1 Axes>"
      ]
     },
     "metadata": {
      "needs_background": "light"
     },
     "output_type": "display_data"
    }
   ],
   "source": [
    "\n",
    "sns.distplot(fast_stats['val_perc_id'], label='fast')\n",
    "sns.distplot(tm_stats['val_perc_id'], label='tm')\n",
    "sns.distplot(dali_stats['val_perc_id'], label='dali')\n",
    "sns.distplot(deep_stats['val_perc_id'], label='deepblast')  # meh\n",
    "sns.distplot(nw_stats['val_perc_id'], label='needleman-wunsch')  # meh\n",
    "\n",
    "plt.legend()"
   ]
  },
  {
   "cell_type": "code",
   "execution_count": 23,
   "metadata": {},
   "outputs": [
    {
     "data": {
      "text/plain": [
       "<matplotlib.legend.Legend at 0x7fb0700c9d00>"
      ]
     },
     "execution_count": 23,
     "metadata": {},
     "output_type": "execute_result"
    },
    {
     "data": {
      "image/png": "[encoded data removed]",
      "text/plain": [
       "<Figure size 432x288 with 1 Axes>"
      ]
     },
     "metadata": {
      "needs_background": "light"
     },
     "output_type": "display_data"
    }
   ],
   "source": [
    "sns.distplot(deep_stats['val_perc_id'], label='deepblast')\n",
    "sns.distplot(nw_stats['val_perc_id'], label='needleman-wunsch')\n",
    "plt.legend()"
   ]
  },
  {
   "cell_type": "code",
   "execution_count": 24,
   "metadata": {},
   "outputs": [
    {
     "data": {
      "text/plain": [
       "<matplotlib.axes._subplots.AxesSubplot at 0x7fb05a9cf9d0>"
      ]
     },
     "execution_count": 24,
     "metadata": {},
     "output_type": "execute_result"
    },
    {
     "data": {
      "image/png": "[encoded data removed]",
      "text/plain": [
       "<Figure size 432x288 with 1 Axes>"
      ]
     },
     "metadata": {
      "needs_background": "light"
     },
     "output_type": "display_data"
    }
   ],
   "source": [
    "box_df = pd.DataFrame({\n",
    "    'fast': fast_stats['val_perc_id'],\n",
    "    'tm': dali_stats['val_perc_id'],\n",
    "    'dali': tm_stats['val_perc_id'],\n",
    "    'deepblast': deep_stats['val_perc_id'],\n",
    "    'nw': nw_stats['val_perc_id']\n",
    "\n",
    "})\n",
    "box_df = box_df.melt(var_name='tool', value_name='perc_id')\n",
    "sns.boxplot(x='tool', y='perc_id', data=box_df)"
   ]
  },
  {
   "cell_type": "markdown",
   "metadata": {},
   "source": [
    "Percent identity vs kernel"
   ]
  },
  {
   "cell_type": "code",
   "execution_count": 25,
   "metadata": {},
   "outputs": [],
   "source": [
    "fast_stats['tool'] = 'fast'\n",
    "tm_stats['tool'] = 'tm'\n",
    "dali_stats['tool'] = 'dali'\n",
    "deep_stats['tool'] = 'deepblast'\n",
    "nw_stats['tool'] = 'nw'\n",
    "data = pd.concat((fast_stats, tm_stats, dali_stats, deep_stats, nw_stats))"
   ]
  },
  {
   "cell_type": "code",
   "execution_count": 26,
   "metadata": {},
   "outputs": [],
   "source": [
    "data = pd.melt(data, id_vars=['tool'], var_name='kernel_width')"
   ]
  },
  {
   "cell_type": "code",
   "execution_count": 27,
   "metadata": {},
   "outputs": [
    {
     "data": {
      "text/plain": [
       "<matplotlib.axes._subplots.AxesSubplot at 0x7fb05bd1d730>"
      ]
     },
     "execution_count": 27,
     "metadata": {},
     "output_type": "execute_result"
    },
    {
     "data": {
      "image/png": "[encoded data removed]",
      "text/plain": [
       "<Figure size 432x288 with 1 Axes>"
      ]
     },
     "metadata": {
      "needs_background": "light"
     },
     "output_type": "display_data"
    }
   ],
   "source": [
    "sns.boxplot(data=data, x='kernel_width', y='value', hue='tool') "
   ]
  },
  {
   "cell_type": "code",
   "execution_count": 28,
   "metadata": {},
   "outputs": [],
   "source": [
    "data = pd.read_csv('malidup_perc_id.csv')"
   ]
  },
  {
   "cell_type": "code",
   "execution_count": 29,
   "metadata": {},
   "outputs": [
    {
     "ename": "ValueError",
     "evalue": "Could not interpret value `kernel_width` for parameter `x`",
     "output_type": "error",
     "traceback": [
      "\u001b[0;31m---------------------------------------------------------------------------\u001b[0m",
      "\u001b[0;31mValueError\u001b[0m                                Traceback (most recent call last)",
      "\u001b[0;32m<ipython-input-29-f51f9e437606>\u001b[0m in \u001b[0;36m<module>\u001b[0;34m\u001b[0m\n\u001b[1;32m      1\u001b[0m \u001b[0mfig\u001b[0m\u001b[0;34m,\u001b[0m \u001b[0max\u001b[0m \u001b[0;34m=\u001b[0m \u001b[0mplt\u001b[0m\u001b[0;34m.\u001b[0m\u001b[0msubplots\u001b[0m\u001b[0;34m(\u001b[0m\u001b[0;34m)\u001b[0m\u001b[0;34m\u001b[0m\u001b[0;34m\u001b[0m\u001b[0m\n\u001b[0;32m----> 2\u001b[0;31m \u001b[0msns\u001b[0m\u001b[0;34m.\u001b[0m\u001b[0mlineplot\u001b[0m\u001b[0;34m(\u001b[0m\u001b[0mdata\u001b[0m\u001b[0;34m=\u001b[0m\u001b[0mdata\u001b[0m\u001b[0;34m,\u001b[0m \u001b[0mx\u001b[0m\u001b[0;34m=\u001b[0m\u001b[0;34m'kernel_width'\u001b[0m\u001b[0;34m,\u001b[0m \u001b[0my\u001b[0m\u001b[0;34m=\u001b[0m\u001b[0;34m'value'\u001b[0m\u001b[0;34m,\u001b[0m \u001b[0mhue\u001b[0m\u001b[0;34m=\u001b[0m\u001b[0;34m'tool'\u001b[0m\u001b[0;34m,\u001b[0m \u001b[0max\u001b[0m\u001b[0;34m=\u001b[0m\u001b[0max\u001b[0m\u001b[0;34m)\u001b[0m\u001b[0;34m\u001b[0m\u001b[0;34m\u001b[0m\u001b[0m\n\u001b[0m\u001b[1;32m      3\u001b[0m \u001b[0;34m\u001b[0m\u001b[0m\n\u001b[1;32m      4\u001b[0m \u001b[0max\u001b[0m\u001b[0;34m.\u001b[0m\u001b[0mset_ylabel\u001b[0m\u001b[0;34m(\u001b[0m\u001b[0;34m'Percent Identity'\u001b[0m\u001b[0;34m)\u001b[0m\u001b[0;34m\u001b[0m\u001b[0;34m\u001b[0m\u001b[0m\n\u001b[1;32m      5\u001b[0m \u001b[0;34m\u001b[0m\u001b[0m\n",
      "\u001b[0;32m~/miniconda3/envs/pytorch/lib/python3.8/site-packages/seaborn/_decorators.py\u001b[0m in \u001b[0;36minner_f\u001b[0;34m(*args, **kwargs)\u001b[0m\n\u001b[1;32m     44\u001b[0m             )\n\u001b[1;32m     45\u001b[0m         \u001b[0mkwargs\u001b[0m\u001b[0;34m.\u001b[0m\u001b[0mupdate\u001b[0m\u001b[0;34m(\u001b[0m\u001b[0;34m{\u001b[0m\u001b[0mk\u001b[0m\u001b[0;34m:\u001b[0m \u001b[0marg\u001b[0m \u001b[0;32mfor\u001b[0m \u001b[0mk\u001b[0m\u001b[0;34m,\u001b[0m \u001b[0marg\u001b[0m \u001b[0;32min\u001b[0m \u001b[0mzip\u001b[0m\u001b[0;34m(\u001b[0m\u001b[0msig\u001b[0m\u001b[0;34m.\u001b[0m\u001b[0mparameters\u001b[0m\u001b[0;34m,\u001b[0m \u001b[0margs\u001b[0m\u001b[0;34m)\u001b[0m\u001b[0;34m}\u001b[0m\u001b[0;34m)\u001b[0m\u001b[0;34m\u001b[0m\u001b[0;34m\u001b[0m\u001b[0m\n\u001b[0;32m---> 46\u001b[0;31m         \u001b[0;32mreturn\u001b[0m \u001b[0mf\u001b[0m\u001b[0;34m(\u001b[0m\u001b[0;34m**\u001b[0m\u001b[0mkwargs\u001b[0m\u001b[0;34m)\u001b[0m\u001b[0;34m\u001b[0m\u001b[0;34m\u001b[0m\u001b[0m\n\u001b[0m\u001b[1;32m     47\u001b[0m     \u001b[0;32mreturn\u001b[0m \u001b[0minner_f\u001b[0m\u001b[0;34m\u001b[0m\u001b[0;34m\u001b[0m\u001b[0m\n\u001b[1;32m     48\u001b[0m \u001b[0;34m\u001b[0m\u001b[0m\n",
      "\u001b[0;32m~/miniconda3/envs/pytorch/lib/python3.8/site-packages/seaborn/relational.py\u001b[0m in \u001b[0;36mlineplot\u001b[0;34m(x, y, hue, size, style, data, palette, hue_order, hue_norm, sizes, size_order, size_norm, dashes, markers, style_order, units, estimator, ci, n_boot, seed, sort, err_style, err_kws, legend, ax, **kwargs)\u001b[0m\n\u001b[1;32m    676\u001b[0m \u001b[0;34m\u001b[0m\u001b[0m\n\u001b[1;32m    677\u001b[0m     \u001b[0mvariables\u001b[0m \u001b[0;34m=\u001b[0m \u001b[0m_LinePlotter\u001b[0m\u001b[0;34m.\u001b[0m\u001b[0mget_semantics\u001b[0m\u001b[0;34m(\u001b[0m\u001b[0mlocals\u001b[0m\u001b[0;34m(\u001b[0m\u001b[0;34m)\u001b[0m\u001b[0;34m)\u001b[0m\u001b[0;34m\u001b[0m\u001b[0;34m\u001b[0m\u001b[0m\n\u001b[0;32m--> 678\u001b[0;31m     p = _LinePlotter(\n\u001b[0m\u001b[1;32m    679\u001b[0m         \u001b[0mdata\u001b[0m\u001b[0;34m=\u001b[0m\u001b[0mdata\u001b[0m\u001b[0;34m,\u001b[0m \u001b[0mvariables\u001b[0m\u001b[0;34m=\u001b[0m\u001b[0mvariables\u001b[0m\u001b[0;34m,\u001b[0m\u001b[0;34m\u001b[0m\u001b[0;34m\u001b[0m\u001b[0m\n\u001b[1;32m    680\u001b[0m         \u001b[0mestimator\u001b[0m\u001b[0;34m=\u001b[0m\u001b[0mestimator\u001b[0m\u001b[0;34m,\u001b[0m \u001b[0mci\u001b[0m\u001b[0;34m=\u001b[0m\u001b[0mci\u001b[0m\u001b[0;34m,\u001b[0m \u001b[0mn_boot\u001b[0m\u001b[0;34m=\u001b[0m\u001b[0mn_boot\u001b[0m\u001b[0;34m,\u001b[0m \u001b[0mseed\u001b[0m\u001b[0;34m=\u001b[0m\u001b[0mseed\u001b[0m\u001b[0;34m,\u001b[0m\u001b[0;34m\u001b[0m\u001b[0;34m\u001b[0m\u001b[0m\n",
      "\u001b[0;32m~/miniconda3/envs/pytorch/lib/python3.8/site-packages/seaborn/relational.py\u001b[0m in \u001b[0;36m__init__\u001b[0;34m(self, data, variables, estimator, ci, n_boot, seed, sort, err_style, err_kws, legend)\u001b[0m\n\u001b[1;32m    365\u001b[0m         )\n\u001b[1;32m    366\u001b[0m \u001b[0;34m\u001b[0m\u001b[0m\n\u001b[0;32m--> 367\u001b[0;31m         \u001b[0msuper\u001b[0m\u001b[0;34m(\u001b[0m\u001b[0;34m)\u001b[0m\u001b[0;34m.\u001b[0m\u001b[0m__init__\u001b[0m\u001b[0;34m(\u001b[0m\u001b[0mdata\u001b[0m\u001b[0;34m=\u001b[0m\u001b[0mdata\u001b[0m\u001b[0;34m,\u001b[0m \u001b[0mvariables\u001b[0m\u001b[0;34m=\u001b[0m\u001b[0mvariables\u001b[0m\u001b[0;34m)\u001b[0m\u001b[0;34m\u001b[0m\u001b[0;34m\u001b[0m\u001b[0m\n\u001b[0m\u001b[1;32m    368\u001b[0m \u001b[0;34m\u001b[0m\u001b[0m\n\u001b[1;32m    369\u001b[0m         \u001b[0mself\u001b[0m\u001b[0;34m.\u001b[0m\u001b[0mestimator\u001b[0m \u001b[0;34m=\u001b[0m \u001b[0mestimator\u001b[0m\u001b[0;34m\u001b[0m\u001b[0;34m\u001b[0m\u001b[0m\n",
      "\u001b[0;32m~/miniconda3/envs/pytorch/lib/python3.8/site-packages/seaborn/_core.py\u001b[0m in \u001b[0;36m__init__\u001b[0;34m(self, data, variables)\u001b[0m\n\u001b[1;32m    602\u001b[0m     \u001b[0;32mdef\u001b[0m \u001b[0m__init__\u001b[0m\u001b[0;34m(\u001b[0m\u001b[0mself\u001b[0m\u001b[0;34m,\u001b[0m \u001b[0mdata\u001b[0m\u001b[0;34m=\u001b[0m\u001b[0;32mNone\u001b[0m\u001b[0;34m,\u001b[0m \u001b[0mvariables\u001b[0m\u001b[0;34m=\u001b[0m\u001b[0;34m{\u001b[0m\u001b[0;34m}\u001b[0m\u001b[0;34m)\u001b[0m\u001b[0;34m:\u001b[0m\u001b[0;34m\u001b[0m\u001b[0;34m\u001b[0m\u001b[0m\n\u001b[1;32m    603\u001b[0m \u001b[0;34m\u001b[0m\u001b[0m\n\u001b[0;32m--> 604\u001b[0;31m         \u001b[0mself\u001b[0m\u001b[0;34m.\u001b[0m\u001b[0massign_variables\u001b[0m\u001b[0;34m(\u001b[0m\u001b[0mdata\u001b[0m\u001b[0;34m,\u001b[0m \u001b[0mvariables\u001b[0m\u001b[0;34m)\u001b[0m\u001b[0;34m\u001b[0m\u001b[0;34m\u001b[0m\u001b[0m\n\u001b[0m\u001b[1;32m    605\u001b[0m \u001b[0;34m\u001b[0m\u001b[0m\n\u001b[1;32m    606\u001b[0m         \u001b[0;32mfor\u001b[0m \u001b[0mvar\u001b[0m\u001b[0;34m,\u001b[0m \u001b[0mcls\u001b[0m \u001b[0;32min\u001b[0m \u001b[0mself\u001b[0m\u001b[0;34m.\u001b[0m\u001b[0m_semantic_mappings\u001b[0m\u001b[0;34m.\u001b[0m\u001b[0mitems\u001b[0m\u001b[0;34m(\u001b[0m\u001b[0;34m)\u001b[0m\u001b[0;34m:\u001b[0m\u001b[0;34m\u001b[0m\u001b[0;34m\u001b[0m\u001b[0m\n",
      "\u001b[0;32m~/miniconda3/envs/pytorch/lib/python3.8/site-packages/seaborn/_core.py\u001b[0m in \u001b[0;36massign_variables\u001b[0;34m(self, data, variables)\u001b[0m\n\u001b[1;32m    665\u001b[0m         \u001b[0;32melse\u001b[0m\u001b[0;34m:\u001b[0m\u001b[0;34m\u001b[0m\u001b[0;34m\u001b[0m\u001b[0m\n\u001b[1;32m    666\u001b[0m             \u001b[0mself\u001b[0m\u001b[0;34m.\u001b[0m\u001b[0minput_format\u001b[0m \u001b[0;34m=\u001b[0m \u001b[0;34m\"long\"\u001b[0m\u001b[0;34m\u001b[0m\u001b[0;34m\u001b[0m\u001b[0m\n\u001b[0;32m--> 667\u001b[0;31m             plot_data, variables = self._assign_variables_longform(\n\u001b[0m\u001b[1;32m    668\u001b[0m                 \u001b[0mdata\u001b[0m\u001b[0;34m,\u001b[0m \u001b[0;34m**\u001b[0m\u001b[0mvariables\u001b[0m\u001b[0;34m,\u001b[0m\u001b[0;34m\u001b[0m\u001b[0;34m\u001b[0m\u001b[0m\n\u001b[1;32m    669\u001b[0m             )\n",
      "\u001b[0;32m~/miniconda3/envs/pytorch/lib/python3.8/site-packages/seaborn/_core.py\u001b[0m in \u001b[0;36m_assign_variables_longform\u001b[0;34m(self, data, **kwargs)\u001b[0m\n\u001b[1;32m    885\u001b[0m                     \u001b[0;31m# We don't know what this name means\u001b[0m\u001b[0;34m\u001b[0m\u001b[0;34m\u001b[0m\u001b[0;34m\u001b[0m\u001b[0m\n\u001b[1;32m    886\u001b[0m                     \u001b[0merr\u001b[0m \u001b[0;34m=\u001b[0m \u001b[0;34mf\"Could not interpret value `{val}` for parameter `{key}`\"\u001b[0m\u001b[0;34m\u001b[0m\u001b[0;34m\u001b[0m\u001b[0m\n\u001b[0;32m--> 887\u001b[0;31m                     \u001b[0;32mraise\u001b[0m \u001b[0mValueError\u001b[0m\u001b[0;34m(\u001b[0m\u001b[0merr\u001b[0m\u001b[0;34m)\u001b[0m\u001b[0;34m\u001b[0m\u001b[0;34m\u001b[0m\u001b[0m\n\u001b[0m\u001b[1;32m    888\u001b[0m \u001b[0;34m\u001b[0m\u001b[0m\n\u001b[1;32m    889\u001b[0m             \u001b[0;32melse\u001b[0m\u001b[0;34m:\u001b[0m\u001b[0;34m\u001b[0m\u001b[0;34m\u001b[0m\u001b[0m\n",
      "\u001b[0;31mValueError\u001b[0m: Could not interpret value `kernel_width` for parameter `x`"
     ]
    },
    {
     "data": {
      "image/png": "[encoded data removed]",
      "text/plain": [
       "<Figure size 432x288 with 1 Axes>"
      ]
     },
     "metadata": {
      "needs_background": "light"
     },
     "output_type": "display_data"
    }
   ],
   "source": [
    "fig, ax = plt.subplots()\n",
    "sns.lineplot(data=data, x='kernel_width', y='value', hue='tool', ax=ax)\n",
    "\n",
    "ax.set_ylabel('Percent Identity')\n",
    "\n",
    "# Shrink current axis by 20%\n",
    "box = ax.get_position()\n",
    "ax.set_position([box.x0, box.y0, box.width * 0.8, box.height])\n",
    "\n",
    "# Put a legend to the right of the current axis\n",
    "ax.legend(loc='center left', bbox_to_anchor=(1, 0.5))"
   ]
  },
  {
   "cell_type": "markdown",
   "metadata": {},
   "source": [
    "# Malisam benchmark"
   ]
  },
  {
   "cell_type": "code",
   "execution_count": null,
   "metadata": {},
   "outputs": [],
   "source": [
    "manual = read_mali(malisam_root, tool='manual')\n",
    "fast   = read_mali(malisam_root, tool='fast')\n",
    "tm     = read_mali(malisam_root, tool='tm')\n",
    "dali   = read_mali(malisam_root, tool='dali')\n",
    "\n",
    "manual = manual[~manual.set_index([0, 1]).index.duplicated(keep='first')]\n",
    "fast = fast[~fast.set_index([0, 1]).index.duplicated(keep='first')]\n",
    "tm = tm[~tm.set_index([0, 1]).index.duplicated(keep='first')]\n",
    "dali = dali[~dali.set_index([0, 1]).index.duplicated(keep='first')]\n",
    "\n",
    "# build multi-indexes\n",
    "manual_ = manual.set_index([0, 1])\n",
    "tm_ = tm.set_index([0, 1])\n",
    "fast_ = fast.set_index([0, 1])\n",
    "dali_ = dali.set_index([0, 1])\n",
    "\n",
    "# merge together\n",
    "res = pd.merge(manual_, fast_, left_index=True, right_index=True)\n",
    "res = pd.merge(res, tm_, left_index=True, right_index=True)\n",
    "res = pd.merge(res, dali_, left_index=True, right_index=True)\n",
    "res.columns = ['manual', 'fast', 'tm', 'dali']"
   ]
  },
  {
   "cell_type": "code",
   "execution_count": null,
   "metadata": {},
   "outputs": [],
   "source": [
    "nw     = manual_.loc[res.index].reset_index().apply(lambda x: nw_f(x[1], x[0]), axis=1)\n",
    "dp     = manual.apply(lambda x: model.align(x[1], x[0])[0], axis=1)"
   ]
  },
  {
   "cell_type": "code",
   "execution_count": null,
   "metadata": {},
   "outputs": [],
   "source": [
    "# build multi-indexes\n",
    "manual = manual.set_index([0, 1])\n",
    "tm = tm.set_index([0, 1])\n",
    "fast = fast.set_index([0, 1])\n",
    "dali = dali.set_index([0, 1])\n",
    "tm = tm[~tm.index.duplicated(keep='first')]\n",
    "\n",
    "# merge together\n",
    "res = pd.merge(manual, fast, left_index=True, right_index=True)\n",
    "res = pd.merge(res, tm, left_index=True, right_index=True)\n",
    "res = pd.merge(res, dali, left_index=True, right_index=True)\n",
    "res.columns = ['manual', 'fast', 'tm', 'dali']\n",
    "res = res.dropna()\n",
    "res['needleman-wunsch'] = nw.values\n",
    "res['deepblast'] = dp.values"
   ]
  },
  {
   "cell_type": "code",
   "execution_count": null,
   "metadata": {},
   "outputs": [],
   "source": [
    "from deepblast.score import alignment_score\n",
    "columns = [\n",
    "        'val_tp', 'val_fp', 'val_fn', 'val_perc_id',\n",
    "        'val_ppv', 'val_fnr', 'val_fdr'\n",
    "]\n",
    "    \n",
    "fast_stats = pd.DataFrame(list(res.apply(lambda x: alignment_score(x['manual'], x['fast']), axis=1).values), \n",
    "                          columns=columns)\n",
    "tm_stats   = pd.DataFrame(list(res.apply(lambda x: alignment_score(x['manual'], x['tm']), axis=1).values), \n",
    "                          columns=columns)\n",
    "dali_stats = pd.DataFrame(list(res.apply(lambda x: alignment_score(x['manual'], x['dali']), axis=1).values), \n",
    "                          columns=columns)\n",
    "deep_stats = pd.DataFrame(list(res.apply(lambda x: alignment_score(x['manual'], x['deepblast']), axis=1).values), \n",
    "                          columns=columns)\n",
    "nw_stats = pd.DataFrame(list(res.apply(lambda x: alignment_score(x['manual'], x['needleman-wunsch']), axis=1).values), \n",
    "                          columns=columns)"
   ]
  },
  {
   "cell_type": "code",
   "execution_count": null,
   "metadata": {},
   "outputs": [],
   "source": [
    "sns.distplot(fast_stats['val_perc_id'], label='fast')\n",
    "sns.distplot(tm_stats['val_perc_id'], label='tm')\n",
    "sns.distplot(dali_stats['val_perc_id'], label='dali')\n",
    "sns.distplot(deep_stats['val_perc_id'], label='deepblast')  # meh\n",
    "sns.distplot(nw_stats['val_perc_id'], label='needleman-wunsch')  # meh\n",
    "\n",
    "plt.legend()"
   ]
  },
  {
   "cell_type": "code",
   "execution_count": null,
   "metadata": {},
   "outputs": [],
   "source": [
    "sns.distplot(deep_stats['val_perc_id'], label='deepblast')\n",
    "sns.distplot(nw_stats['val_perc_id'], label='needleman-wunsch')\n",
    "plt.legend()"
   ]
  },
  {
   "cell_type": "code",
   "execution_count": null,
   "metadata": {},
   "outputs": [],
   "source": [
    "box_df = pd.DataFrame({\n",
    "    'fast': fast_stats['val_perc_id'],\n",
    "    'tm': dali_stats['val_perc_id'],\n",
    "    'dali': tm_stats['val_perc_id'],\n",
    "    'deepblast': deep_stats['val_perc_id'],\n",
    "    'nw': nw_stats['val_perc_id']\n",
    "\n",
    "})\n",
    "box_df = box_df.melt(var_name='tool', value_name='perc_id')\n",
    "sns.boxplot(x='tool', y='perc_id', data=box_df)\n"
   ]
  },
  {
   "cell_type": "code",
   "execution_count": null,
   "metadata": {},
   "outputs": [],
   "source": [
    "plt.scatter(dali_stats['val_fdr'], dali_stats['val_fnr'], label='dali')\n",
    "plt.scatter(tm_stats['val_fdr'], tm_stats['val_fnr'], label='tm')\n",
    "plt.scatter(fast_stats['val_fdr'], fast_stats['val_fnr'], label='fast')\n",
    "plt.scatter(deep_stats['val_fdr'], deep_stats['val_fnr'], label='deepblast')\n",
    "\n",
    "plt.legend()\n",
    "\n",
    "plt.xlabel('FDR')\n",
    "plt.ylabel('FNR')"
   ]
  },
  {
   "cell_type": "markdown",
   "metadata": {},
   "source": [
    "# Debugging"
   ]
  },
  {
   "cell_type": "code",
   "execution_count": null,
   "metadata": {},
   "outputs": [],
   "source": [
    "i = 2\n",
    "x = res.index[i]\n",
    "pred, A = model.align(x[1], x[0])\n",
    "\n",
    "fig, ax = plt.subplots(1, 3, figsize=(15, 5))\n",
    "\n",
    "truth = res.iloc[i]['manual']\n",
    "\n",
    "columns = [\n",
    "        'val_tp', 'val_fp', 'val_fn', 'val_perc_id',\n",
    "        'val_ppv', 'val_fnr', 'val_fdr'\n",
    "]\n",
    "print(pd.Series(alignment_score(truth, pred), index=columns))\n",
    "\n",
    "sns.heatmap(states2matrix(list(map(tmstate_f, truth))), ax=ax[0])\n",
    "sns.heatmap(states2matrix(list(map(tmstate_f, pred))), ax=ax[1])\n",
    "sns.heatmap(A.cpu().detach().numpy().squeeze(), ax=ax[2], robust=True)"
   ]
  },
  {
   "cell_type": "code",
   "execution_count": null,
   "metadata": {},
   "outputs": [],
   "source": [
    "from deepblast.dataset.utils import states2alignment\n",
    "a, b = states2alignment(np.array(list(map(tmstate_f, truth))), x[1], x[0])\n",
    "print('Ground Truth')\n",
    "print(a)\n",
    "print(b)\n",
    "a, b = states2alignment(np.array(list(map(tmstate_f, pred))), x[1], x[0])\n",
    "print('Prediction')\n",
    "print(a)\n",
    "print(b)"
   ]
  },
  {
   "cell_type": "code",
   "execution_count": null,
   "metadata": {},
   "outputs": [],
   "source": []
  },
  {
   "cell_type": "code",
   "execution_count": null,
   "metadata": {},
   "outputs": [],
   "source": [
    "columns = [\n",
    "        'val_tp', 'val_fp', 'val_fn', 'val_perc_id',\n",
    "        'val_ppv', 'val_fnr', 'val_fdr'\n",
    "]\n",
    "\n",
    "print(pd.Series(alignment_score(truth, pred), index=columns))"
   ]
  },
  {
   "cell_type": "code",
   "execution_count": null,
   "metadata": {},
   "outputs": [],
   "source": [
    "deep_stats"
   ]
  },
  {
   "cell_type": "code",
   "execution_count": null,
   "metadata": {},
   "outputs": [],
   "source": [
    "sns.distplot(deep_stats['val_perc_id'], label='deepblast')\n",
    "sns.distplot(nw_stats['val_perc_id'], label='needleman-wunsch')\n",
    "plt.legend()"
   ]
  },
  {
   "cell_type": "code",
   "execution_count": null,
   "metadata": {},
   "outputs": [],
   "source": [
    "sns.distplot(nw_stats['val_perc_id'])"
   ]
  },
  {
   "cell_type": "code",
   "execution_count": null,
   "metadata": {},
   "outputs": [],
   "source": [
    "x"
   ]
  },
  {
   "cell_type": "code",
   "execution_count": null,
   "metadata": {},
   "outputs": [],
   "source": []
  },
  {
   "cell_type": "code",
   "execution_count": null,
   "metadata": {},
   "outputs": [],
   "source": [
    "res"
   ]
  },
  {
   "cell_type": "code",
   "execution_count": null,
   "metadata": {},
   "outputs": [],
   "source": []
  }
 ],
 "metadata": {
  "kernelspec": {
   "display_name": "Python 3",
   "language": "python",
   "name": "python3"
  },
  "language_info": {
   "codemirror_mode": {
    "name": "ipython",
    "version": 3
   },
   "file_extension": ".py",
   "mimetype": "text/x-python",
   "name": "python",
   "nbconvert_exporter": "python",
   "pygments_lexer": "ipython3",
   "version": "3.8.3"
  }
 },
 "nbformat": 4,
 "nbformat_minor": 4
}
