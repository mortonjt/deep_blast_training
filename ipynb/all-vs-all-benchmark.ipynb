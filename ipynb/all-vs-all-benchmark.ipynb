{
 "cells": [
  {
   "cell_type": "markdown",
   "metadata": {},
   "source": [
    "Here, instead of comparing against manual alignments, structural alignment methods are used as a reference instead."
   ]
  },
  {
   "cell_type": "code",
   "execution_count": 5,
   "metadata": {},
   "outputs": [],
   "source": [
    "import pandas as pd\n",
    "import matplotlib.pyplot as plt\n",
    "import seaborn as sns\n",
    "import numpy as np\n",
    "from deepblast.trainer import LightningAligner\n",
    "from deepblast.dataset.utils import states2edges\n",
    "from deepblast.score import alignment_score\n",
    "from deepblast.dataset.parse_mali import read_mali, read_mali_mammoth\n",
    "from deepblast.dataset.utils import states2matrix\n",
    "from deepblast.dataset.utils import state_f, tmstate_f, revstate_f\n",
    "from deepblast.score import alignment_score_kernel\n",
    "\n",
    "from Bio import pairwise2\n",
    "from Bio.pairwise2 import format_alignment\n",
    "from Bio.SubsMat import MatrixInfo as matlist\n",
    "\n",
    "import warnings\n",
    "warnings.filterwarnings(\"ignore\")\n",
    "%matplotlib inline"
   ]
  },
  {
   "cell_type": "code",
   "execution_count": 6,
   "metadata": {},
   "outputs": [],
   "source": [
    "malidup_root = '../data/structure_benchmarks/malidup'\n",
    "malisam_root = '../data/structure_benchmarks/malisam'\n",
    "\n",
    "mammoth_dup_root = '../data/structure_benchmarks/mammoth/malidup'\n",
    "mammoth_sam_root = '../data/structure_benchmarks/mammoth/malisam'\n",
    "\n",
    "mali_root = malidup_root\n",
    "mali_mammoth = mammoth_dup_root\n",
    "benchmark = 'malidup'"
   ]
  },
  {
   "cell_type": "code",
   "execution_count": 7,
   "metadata": {},
   "outputs": [],
   "source": [
    "#ckpt_path = '../../deep_blast_training/lightning_logs/version_174156/checkpoints/epoch=6.ckpt'\n",
    "ckpt_path = '../../deep_blast_training/lightning_logs/version_174137/checkpoints/epoch=9.ckpt'\n",
    "\n",
    "model = LightningAligner.load_from_checkpoint(ckpt_path).cuda()"
   ]
  },
  {
   "cell_type": "code",
   "execution_count": 21,
   "metadata": {},
   "outputs": [],
   "source": [
    "# read in manual and Mammoth\n",
    "mammoth = read_mali_mammoth(mali_mammoth, report_ids=True)\n",
    "manual = read_mali(mali_root, tool='manual', report_ids=True)\n",
    "res = pd.merge(manual, mammoth, left_on='dir', right_on='pdb')\n",
    "res = res[['0_x', '1_x', '2_x', '2_y']]\n",
    "res = res.rename(columns={'0_x' : 0, '1_x' : 1, '2_x' : 'manual', '2_y': 'mammoth'})\n",
    "res = res[~res.set_index([0, 1]).index.duplicated(keep='first')]\n",
    "res = res.set_index([0, 1])\n",
    "\n",
    "# read in TMalign, Fast and Dali \n",
    "fast   = read_mali(mali_root, tool='fast')\n",
    "tm     = read_mali(mali_root, tool='tm')\n",
    "dali   = read_mali(mali_root, tool='dali')\n",
    "fast = fast[~fast.set_index([0, 1]).index.duplicated(keep='first')]\n",
    "tm = tm[~tm.set_index([0, 1]).index.duplicated(keep='first')]\n",
    "dali = dali[~dali.set_index([0, 1]).index.duplicated(keep='first')]\n",
    "\n",
    "# build multi-indexes\n",
    "tm_ = tm.set_index([0, 1]).rename(columns={2: 'tm'})\n",
    "fast_ = fast.set_index([0, 1]).rename(columns={2: 'fast'})\n",
    "dali_ = dali.set_index([0, 1]).rename(columns={2: 'dali'})\n",
    "\n",
    "# merge together\n",
    "res = pd.merge(res, fast_, left_index=True, right_index=True)\n",
    "res = pd.merge(res, tm_, left_index=True, right_index=True)\n",
    "res = pd.merge(res, dali_, left_index=True, right_index=True)\n",
    "#res = rename ['fast', 'tm', 'dali']\n",
    "\n",
    "# Needleman-wunsch and deepblast\n",
    "dp     = res.reset_index().apply(lambda x: model.align(x[1], x[0]), axis=1)\n",
    "res['deepblast'] = dp.values"
   ]
  },
  {
   "cell_type": "code",
   "execution_count": 22,
   "metadata": {},
   "outputs": [],
   "source": [
    "import dask.dataframe as dd\n",
    "\n",
    "def score_local_identity(x, k, reference):\n",
    "    if x['query_start'] < 0 :\n",
    "        return [0.] * len(k)\n",
    "    else:\n",
    "        return alignment_score_kernel(x[reference], x['aln'], kernel_widths=k, \n",
    "                                      query_offset=x['query_start'],\n",
    "                                      hit_offset=x['hit_start'])\n",
    "\n",
    "def score_local_alignment(df, k, n_cores=4):\n",
    "    df2 = dd.from_pandas(df, npartitions=n_cores)\n",
    "    func = lambda x: score_local_identity(x, k)\n",
    "    res = df2.apply(func, axis=1)\n",
    "    resdf = res.compute(scheduler='processes')\n",
    "    return pd.DataFrame(list(resdf.values), columns=k)\n",
    "\n",
    "def score_global_alignment(df, col, k, reference, n_cores=4):\n",
    "    df2 = dd.from_pandas(df, npartitions=n_cores)\n",
    "    func = lambda x: alignment_score_kernel(x[reference], x[col], k)\n",
    "    res = df2.apply(func, axis=1)\n",
    "    resdf = res.compute(scheduler='processes')\n",
    "    return pd.DataFrame(list(resdf.values), columns=k)"
   ]
  },
  {
   "cell_type": "code",
   "execution_count": 23,
   "metadata": {},
   "outputs": [],
   "source": [
    "k = [1, 3, 5, 10]\n",
    "\n",
    "# Global alignments\n",
    "dp_tm_ref = score_global_alignment(res.reset_index(), 'deepblast', k, reference='tm', n_cores=30)\n",
    "dp_fast_ref = score_global_alignment(res.reset_index(), 'deepblast', k, reference='fast', n_cores=30)\n",
    "dp_dali_ref = score_global_alignment(res.reset_index(), 'deepblast', k, reference='dali', n_cores=30)\n",
    "dp_mammoth_ref = score_global_alignment(res.reset_index(), 'deepblast', k, reference='mammoth', n_cores=30)"
   ]
  },
  {
   "cell_type": "code",
   "execution_count": 25,
   "metadata": {},
   "outputs": [],
   "source": [
    "dp_tm_ref['reference'] = 'tm'\n",
    "dp_fast_ref['reference'] = 'fast'\n",
    "dp_dali_ref['reference'] = 'dali'\n",
    "dp_mammoth_ref['reference'] = 'mammoth'\n",
    "\n",
    "# add additional metadata regarding the pdb files\n",
    "manual = read_mali(mali_root, tool='manual', report_ids=True)\n",
    "dp_tm_ref['pdb'] = manual['pdb']\n",
    "dp_fast_ref['pdb'] = manual['pdb']\n",
    "dp_dali_ref['pdb'] = manual['pdb']\n",
    "dp_mammoth_ref['pdb'] = manual['pdb']\n",
    "\n",
    "\n",
    "# combine stats\n",
    "data = pd.concat((dp_tm_ref, dp_fast_ref, dp_dali_ref, dp_mammoth_ref))\n",
    "# save file locally for later\n",
    "data.to_csv(f'{benchmark}_reference_perc_id.csv')\n",
    "\n",
    "# melt dataframe to make it easier to plot\n",
    "data = pd.melt(data, id_vars=['reference', 'pdb'], var_name='kernel_width')"
   ]
  },
  {
   "cell_type": "raw",
   "metadata": {},
   "source": [
    "# Run if need to regenerate figures from existing data\n",
    "benchmark = 'malidup'\n",
    "data = pd.read_csv('malidup_reference_perc_id.csv', index_col=0)\n",
    "data = pd.melt(data, id_vars=['tool', 'pdb'], var_name='kernel_width')"
   ]
  },
  {
   "cell_type": "code",
   "execution_count": 31,
   "metadata": {},
   "outputs": [
    {
     "data": {
      "image/png": "[encoded data removed]",
      "text/plain": [
       "<Figure size 432x288 with 1 Axes>"
      ]
     },
     "metadata": {
      "needs_background": "light"
     },
     "output_type": "display_data"
    }
   ],
   "source": [
    "lookup = {'fast' : 'Fast', 'tm' : 'TM-align', 'dali' : 'Dali', \n",
    "          'mammoth': 'Mammoth', }\n",
    "\n",
    "data['Reference'] = data.apply(lambda x: lookup[x['reference']], axis=1)\n",
    "\n",
    "green = sns.light_palette(\"seagreen\")\n",
    "purple = sns.dark_palette(\"blue\", reverse=True)\n",
    "fig, ax = plt.subplots()\n",
    "palette = {\n",
    "    'Fast' : '#00838f',\n",
    "    'TM-align' : '#4dd0e1',\n",
    "    'Dali' : '#4db6ac',\n",
    "    'Mammoth' : '#81c784'\n",
    "}\n",
    "sns.lineplot(data=data, x='kernel_width', y='value', hue='Reference', ax=ax,\n",
    "             palette=palette, hue_order=['Fast', 'TM-align', 'Dali', 'Mammoth'])\n",
    "\n",
    "ax.set_ylabel('Percent Identity')\n",
    "\n",
    "box = ax.get_position()\n",
    "ax.set_position([box.x0, box.y0, box.width * 0.8, box.height])\n",
    "\n",
    "ax.set_ylabel('True Positive Rate', fontsize=18)\n",
    "ax.set_xlabel('Kernel Width', fontsize=18)\n",
    "ax.tick_params(labelsize=14)\n",
    "ax.set_title('DeepBLAST Reference', fontsize=18)\n",
    "# Put a legend to the right of the current axis\n",
    "ax.legend(loc='center left', bbox_to_anchor=(1, 0.5), prop={'size': 18})\n",
    "fig.savefig(f'{benchmark}-deepblast-reference.png', bbox_inches='tight')"
   ]
  },
  {
   "cell_type": "code",
   "execution_count": 64,
   "metadata": {},
   "outputs": [],
   "source": [
    "deepblast_tm_ref = score_global_alignment(res.reset_index(), 'deepblast', k, reference='tm', n_cores=30)\n",
    "mammoth_tm_ref = score_global_alignment(res.reset_index(), 'mammoth', k, reference='tm', n_cores=30)"
   ]
  },
  {
   "cell_type": "code",
   "execution_count": 80,
   "metadata": {},
   "outputs": [],
   "source": [
    "deepblast_tm_ref['reference'] = 'deepblast'\n",
    "mammoth_tm_ref['reference'] = 'mammoth'\n",
    "data = pd.concat((deepblast_tm_ref, mammoth_tm_ref))\n",
    "data = pd.melt(data, id_vars=['reference'], var_name='kernel_width')"
   ]
  },
  {
   "cell_type": "code",
   "execution_count": 81,
   "metadata": {},
   "outputs": [
    {
     "data": {
      "text/plain": [
       "Text(0.5, 1.0, 'TM-align reference')"
      ]
     },
     "execution_count": 81,
     "metadata": {},
     "output_type": "execute_result"
    },
    {
     "data": {
      "image/png": "[encoded data removed]",
      "text/plain": [
       "<Figure size 432x288 with 1 Axes>"
      ]
     },
     "metadata": {
      "needs_background": "light"
     },
     "output_type": "display_data"
    }
   ],
   "source": [
    "sns.lineplot(data=data, x='kernel_width', y='value', hue='reference')\n",
    "plt.title('TM-align reference', fontsize=18)"
   ]
  },
  {
   "cell_type": "code",
   "execution_count": 83,
   "metadata": {},
   "outputs": [],
   "source": [
    "deepblast_fast_ref = score_global_alignment(res.reset_index(), 'deepblast', k, reference='fast', n_cores=30)\n",
    "mammoth_fast_ref = score_global_alignment(res.reset_index(), 'mammoth', k, reference='fast', n_cores=30)\n",
    "dali_fast_ref = score_global_alignment(res.reset_index(), 'dali', k, reference='fast', n_cores=30)\n",
    "tm_fast_ref = score_global_alignment(res.reset_index(), 'tm', k, reference='fast', n_cores=30)"
   ]
  },
  {
   "cell_type": "code",
   "execution_count": 86,
   "metadata": {},
   "outputs": [],
   "source": [
    "deepblast_fast_ref['reference'] = 'DeepBLAST'\n",
    "mammoth_fast_ref['reference'] = 'Mammoth'\n",
    "dali_fast_ref['reference'] = 'Dali'\n",
    "tm_fast_ref['reference'] = 'TM-align'\n",
    "\n",
    "data = pd.concat((deepblast_fast_ref, mammoth_fast_ref, dali_fast_ref, tm_fast_ref))\n",
    "data = pd.melt(data, id_vars=['reference'], var_name='kernel_width')"
   ]
  },
  {
   "cell_type": "code",
   "execution_count": 87,
   "metadata": {},
   "outputs": [
    {
     "data": {
      "text/plain": [
       "Text(0.5, 1.0, 'Fast reference')"
      ]
     },
     "execution_count": 87,
     "metadata": {},
     "output_type": "execute_result"
    },
    {
     "data": {
      "image/png": "[encoded data removed]",
      "text/plain": [
       "<Figure size 432x288 with 1 Axes>"
      ]
     },
     "metadata": {
      "needs_background": "light"
     },
     "output_type": "display_data"
    }
   ],
   "source": [
    "sns.lineplot(data=data, x='kernel_width', y='value', hue='reference')\n",
    "plt.title('Fast reference', fontsize=18)"
   ]
  },
  {
   "cell_type": "markdown",
   "metadata": {},
   "source": [
    "Other statistics"
   ]
  },
  {
   "cell_type": "code",
   "execution_count": 32,
   "metadata": {},
   "outputs": [],
   "source": [
    "columns = [\n",
    "        'val_tp', 'val_fp', 'val_fn', 'val_perc_id',\n",
    "        'val_ppv', 'val_fnr', 'val_fdr'\n",
    "]\n",
    "\n",
    "fast_stats = pd.DataFrame(list(res.apply(lambda x: alignment_score(x['deepblast'], x['fast']), axis=1).values), \n",
    "                          columns=columns)\n",
    "tm_stats   = pd.DataFrame(list(res.apply(lambda x: alignment_score(x['deepblast'], x['tm']), axis=1).values), \n",
    "                          columns=columns)\n",
    "dali_stats = pd.DataFrame(list(res.apply(lambda x: alignment_score(x['deepblast'], x['dali']), axis=1).values), \n",
    "                          columns=columns)\n",
    "mam_stats = pd.DataFrame(list(res.apply(lambda x: alignment_score(x['deepblast'], x['mammoth']), axis=1).values), \n",
    "                          columns=columns)"
   ]
  },
  {
   "cell_type": "code",
   "execution_count": 37,
   "metadata": {},
   "outputs": [],
   "source": [
    "fast_stats['tool'] = 'fast'\n",
    "tm_stats['tool'] = 'tm'\n",
    "dali_stats['tool'] = 'dali'\n",
    "mam_stats['tool'] = 'mammoth'\n",
    "data = pd.concat((fast_stats, tm_stats, dali_stats, mam_stats))\n",
    "data.to_csv(f'{benchmark}_reference_allstats.csv')\n",
    "data['precision'] = data.apply(lambda x: x['val_tp'] / (x['val_tp'] + x['val_fp']), axis=1)\n",
    "data['recall'] = data.apply(lambda x: x['val_tp'] / (x['val_tp'] + x['val_fn']), axis=1)\n",
    "data['f1'] = data.apply(lambda x: 2 / ((1 / x['precision']) + (1 / x['recall'])), axis=1)\n",
    "data = data.dropna()"
   ]
  },
  {
   "cell_type": "code",
   "execution_count": 38,
   "metadata": {},
   "outputs": [
    {
     "data": {
      "text/html": [
       "<div>\n",
       "<style scoped>\n",
       "    .dataframe tbody tr th:only-of-type {\n",
       "        vertical-align: middle;\n",
       "    }\n",
       "\n",
       "    .dataframe tbody tr th {\n",
       "        vertical-align: top;\n",
       "    }\n",
       "\n",
       "    .dataframe thead th {\n",
       "        text-align: right;\n",
       "    }\n",
       "</style>\n",
       "<table border=\"1\" class=\"dataframe\">\n",
       "  <thead>\n",
       "    <tr style=\"text-align: right;\">\n",
       "      <th></th>\n",
       "      <th>val_tp</th>\n",
       "      <th>val_fp</th>\n",
       "      <th>val_fn</th>\n",
       "      <th>val_perc_id</th>\n",
       "      <th>val_ppv</th>\n",
       "      <th>val_fnr</th>\n",
       "      <th>val_fdr</th>\n",
       "      <th>tool</th>\n",
       "      <th>precision</th>\n",
       "      <th>recall</th>\n",
       "      <th>f1</th>\n",
       "    </tr>\n",
       "  </thead>\n",
       "  <tbody>\n",
       "    <tr>\n",
       "      <th>0</th>\n",
       "      <td>14</td>\n",
       "      <td>180</td>\n",
       "      <td>140</td>\n",
       "      <td>0.090909</td>\n",
       "      <td>0.072165</td>\n",
       "      <td>0.909091</td>\n",
       "      <td>0.927835</td>\n",
       "      <td>fast</td>\n",
       "      <td>0.072165</td>\n",
       "      <td>0.090909</td>\n",
       "      <td>0.080460</td>\n",
       "    </tr>\n",
       "    <tr>\n",
       "      <th>1</th>\n",
       "      <td>8</td>\n",
       "      <td>75</td>\n",
       "      <td>57</td>\n",
       "      <td>0.123077</td>\n",
       "      <td>0.096386</td>\n",
       "      <td>0.876923</td>\n",
       "      <td>0.903614</td>\n",
       "      <td>fast</td>\n",
       "      <td>0.096386</td>\n",
       "      <td>0.123077</td>\n",
       "      <td>0.108108</td>\n",
       "    </tr>\n",
       "    <tr>\n",
       "      <th>2</th>\n",
       "      <td>3</td>\n",
       "      <td>144</td>\n",
       "      <td>126</td>\n",
       "      <td>0.023256</td>\n",
       "      <td>0.020408</td>\n",
       "      <td>0.976744</td>\n",
       "      <td>0.979592</td>\n",
       "      <td>fast</td>\n",
       "      <td>0.020408</td>\n",
       "      <td>0.023256</td>\n",
       "      <td>0.021739</td>\n",
       "    </tr>\n",
       "    <tr>\n",
       "      <th>3</th>\n",
       "      <td>23</td>\n",
       "      <td>28</td>\n",
       "      <td>21</td>\n",
       "      <td>0.522727</td>\n",
       "      <td>0.450980</td>\n",
       "      <td>0.477273</td>\n",
       "      <td>0.549020</td>\n",
       "      <td>fast</td>\n",
       "      <td>0.450980</td>\n",
       "      <td>0.522727</td>\n",
       "      <td>0.484211</td>\n",
       "    </tr>\n",
       "    <tr>\n",
       "      <th>4</th>\n",
       "      <td>7</td>\n",
       "      <td>351</td>\n",
       "      <td>283</td>\n",
       "      <td>0.024138</td>\n",
       "      <td>0.019553</td>\n",
       "      <td>0.975862</td>\n",
       "      <td>0.980447</td>\n",
       "      <td>fast</td>\n",
       "      <td>0.019553</td>\n",
       "      <td>0.024138</td>\n",
       "      <td>0.021605</td>\n",
       "    </tr>\n",
       "    <tr>\n",
       "      <th>...</th>\n",
       "      <td>...</td>\n",
       "      <td>...</td>\n",
       "      <td>...</td>\n",
       "      <td>...</td>\n",
       "      <td>...</td>\n",
       "      <td>...</td>\n",
       "      <td>...</td>\n",
       "      <td>...</td>\n",
       "      <td>...</td>\n",
       "      <td>...</td>\n",
       "      <td>...</td>\n",
       "    </tr>\n",
       "    <tr>\n",
       "      <th>229</th>\n",
       "      <td>2</td>\n",
       "      <td>70</td>\n",
       "      <td>80</td>\n",
       "      <td>0.024390</td>\n",
       "      <td>0.027778</td>\n",
       "      <td>0.975610</td>\n",
       "      <td>0.972222</td>\n",
       "      <td>mammoth</td>\n",
       "      <td>0.027778</td>\n",
       "      <td>0.024390</td>\n",
       "      <td>0.025974</td>\n",
       "    </tr>\n",
       "    <tr>\n",
       "      <th>230</th>\n",
       "      <td>13</td>\n",
       "      <td>176</td>\n",
       "      <td>211</td>\n",
       "      <td>0.058036</td>\n",
       "      <td>0.068783</td>\n",
       "      <td>0.941964</td>\n",
       "      <td>0.931217</td>\n",
       "      <td>mammoth</td>\n",
       "      <td>0.068783</td>\n",
       "      <td>0.058036</td>\n",
       "      <td>0.062954</td>\n",
       "    </tr>\n",
       "    <tr>\n",
       "      <th>231</th>\n",
       "      <td>26</td>\n",
       "      <td>36</td>\n",
       "      <td>40</td>\n",
       "      <td>0.393939</td>\n",
       "      <td>0.419355</td>\n",
       "      <td>0.606061</td>\n",
       "      <td>0.580645</td>\n",
       "      <td>mammoth</td>\n",
       "      <td>0.419355</td>\n",
       "      <td>0.393939</td>\n",
       "      <td>0.406250</td>\n",
       "    </tr>\n",
       "    <tr>\n",
       "      <th>232</th>\n",
       "      <td>2</td>\n",
       "      <td>148</td>\n",
       "      <td>172</td>\n",
       "      <td>0.011494</td>\n",
       "      <td>0.013333</td>\n",
       "      <td>0.988506</td>\n",
       "      <td>0.986667</td>\n",
       "      <td>mammoth</td>\n",
       "      <td>0.013333</td>\n",
       "      <td>0.011494</td>\n",
       "      <td>0.012346</td>\n",
       "    </tr>\n",
       "    <tr>\n",
       "      <th>233</th>\n",
       "      <td>30</td>\n",
       "      <td>83</td>\n",
       "      <td>94</td>\n",
       "      <td>0.241935</td>\n",
       "      <td>0.265487</td>\n",
       "      <td>0.758065</td>\n",
       "      <td>0.734513</td>\n",
       "      <td>mammoth</td>\n",
       "      <td>0.265487</td>\n",
       "      <td>0.241935</td>\n",
       "      <td>0.253165</td>\n",
       "    </tr>\n",
       "  </tbody>\n",
       "</table>\n",
       "<p>936 rows × 11 columns</p>\n",
       "</div>"
      ],
      "text/plain": [
       "     val_tp  val_fp  val_fn  val_perc_id   val_ppv   val_fnr   val_fdr  \\\n",
       "0        14     180     140     0.090909  0.072165  0.909091  0.927835   \n",
       "1         8      75      57     0.123077  0.096386  0.876923  0.903614   \n",
       "2         3     144     126     0.023256  0.020408  0.976744  0.979592   \n",
       "3        23      28      21     0.522727  0.450980  0.477273  0.549020   \n",
       "4         7     351     283     0.024138  0.019553  0.975862  0.980447   \n",
       "..      ...     ...     ...          ...       ...       ...       ...   \n",
       "229       2      70      80     0.024390  0.027778  0.975610  0.972222   \n",
       "230      13     176     211     0.058036  0.068783  0.941964  0.931217   \n",
       "231      26      36      40     0.393939  0.419355  0.606061  0.580645   \n",
       "232       2     148     172     0.011494  0.013333  0.988506  0.986667   \n",
       "233      30      83      94     0.241935  0.265487  0.758065  0.734513   \n",
       "\n",
       "        tool  precision    recall        f1  \n",
       "0       fast   0.072165  0.090909  0.080460  \n",
       "1       fast   0.096386  0.123077  0.108108  \n",
       "2       fast   0.020408  0.023256  0.021739  \n",
       "3       fast   0.450980  0.522727  0.484211  \n",
       "4       fast   0.019553  0.024138  0.021605  \n",
       "..       ...        ...       ...       ...  \n",
       "229  mammoth   0.027778  0.024390  0.025974  \n",
       "230  mammoth   0.068783  0.058036  0.062954  \n",
       "231  mammoth   0.419355  0.393939  0.406250  \n",
       "232  mammoth   0.013333  0.011494  0.012346  \n",
       "233  mammoth   0.265487  0.241935  0.253165  \n",
       "\n",
       "[936 rows x 11 columns]"
      ]
     },
     "execution_count": 38,
     "metadata": {},
     "output_type": "execute_result"
    }
   ],
   "source": [
    "data"
   ]
  },
  {
   "cell_type": "code",
   "execution_count": 42,
   "metadata": {},
   "outputs": [
    {
     "data": {
      "text/plain": [
       "<matplotlib.legend.Legend at 0x7fd7521e1190>"
      ]
     },
     "execution_count": 42,
     "metadata": {},
     "output_type": "execute_result"
    },
    {
     "data": {
      "image/png": "[encoded data removed]",
      "text/plain": [
       "<Figure size 432x288 with 1 Axes>"
      ]
     },
     "metadata": {
      "needs_background": "light"
     },
     "output_type": "display_data"
    }
   ],
   "source": [
    "green = sns.light_palette(\"seagreen\")\n",
    "purple = sns.dark_palette(\"blue\", reverse=True)\n",
    "fig, ax = plt.subplots()\n",
    "palette = {\n",
    "    'fast' : '#00838f',\n",
    "    'tm' : '#4dd0e1',\n",
    "    'dali' : '#4db6ac',\n",
    "    'mammoth' : '#81c784',\n",
    "}\n",
    "#sns.lineplot(data=data, x='precision', y='recall', hue='tool', ax=ax,\n",
    "#             palette=palette, hue_order=['fast', 'tm', 'dali', 'mammoth'])\n",
    "box = ax.get_position()\n",
    "ax.set_position([box.x0, box.y0, box.width * 0.8, box.height])\n",
    "\n",
    "# Put a legend to the right of the current axis\n",
    "ax.legend(loc='center left', bbox_to_anchor=(1, 0.5))"
   ]
  },
  {
   "cell_type": "code",
   "execution_count": 54,
   "metadata": {},
   "outputs": [
    {
     "data": {
      "text/html": [
       "<div>\n",
       "<style scoped>\n",
       "    .dataframe tbody tr th:only-of-type {\n",
       "        vertical-align: middle;\n",
       "    }\n",
       "\n",
       "    .dataframe tbody tr th {\n",
       "        vertical-align: top;\n",
       "    }\n",
       "\n",
       "    .dataframe thead th {\n",
       "        text-align: right;\n",
       "    }\n",
       "</style>\n",
       "<table border=\"1\" class=\"dataframe\">\n",
       "  <thead>\n",
       "    <tr style=\"text-align: right;\">\n",
       "      <th></th>\n",
       "      <th>val_tp</th>\n",
       "      <th>val_fp</th>\n",
       "      <th>val_fn</th>\n",
       "      <th>val_perc_id</th>\n",
       "      <th>val_ppv</th>\n",
       "      <th>val_fnr</th>\n",
       "      <th>val_fdr</th>\n",
       "      <th>tool</th>\n",
       "      <th>precision</th>\n",
       "      <th>recall</th>\n",
       "      <th>f1</th>\n",
       "    </tr>\n",
       "  </thead>\n",
       "  <tbody>\n",
       "    <tr>\n",
       "      <th>0</th>\n",
       "      <td>14</td>\n",
       "      <td>180</td>\n",
       "      <td>140</td>\n",
       "      <td>0.090909</td>\n",
       "      <td>0.072165</td>\n",
       "      <td>0.909091</td>\n",
       "      <td>0.927835</td>\n",
       "      <td>fast</td>\n",
       "      <td>0.072165</td>\n",
       "      <td>0.090909</td>\n",
       "      <td>0.080460</td>\n",
       "    </tr>\n",
       "    <tr>\n",
       "      <th>1</th>\n",
       "      <td>8</td>\n",
       "      <td>75</td>\n",
       "      <td>57</td>\n",
       "      <td>0.123077</td>\n",
       "      <td>0.096386</td>\n",
       "      <td>0.876923</td>\n",
       "      <td>0.903614</td>\n",
       "      <td>fast</td>\n",
       "      <td>0.096386</td>\n",
       "      <td>0.123077</td>\n",
       "      <td>0.108108</td>\n",
       "    </tr>\n",
       "    <tr>\n",
       "      <th>2</th>\n",
       "      <td>3</td>\n",
       "      <td>144</td>\n",
       "      <td>126</td>\n",
       "      <td>0.023256</td>\n",
       "      <td>0.020408</td>\n",
       "      <td>0.976744</td>\n",
       "      <td>0.979592</td>\n",
       "      <td>fast</td>\n",
       "      <td>0.020408</td>\n",
       "      <td>0.023256</td>\n",
       "      <td>0.021739</td>\n",
       "    </tr>\n",
       "    <tr>\n",
       "      <th>3</th>\n",
       "      <td>23</td>\n",
       "      <td>28</td>\n",
       "      <td>21</td>\n",
       "      <td>0.522727</td>\n",
       "      <td>0.450980</td>\n",
       "      <td>0.477273</td>\n",
       "      <td>0.549020</td>\n",
       "      <td>fast</td>\n",
       "      <td>0.450980</td>\n",
       "      <td>0.522727</td>\n",
       "      <td>0.484211</td>\n",
       "    </tr>\n",
       "    <tr>\n",
       "      <th>4</th>\n",
       "      <td>7</td>\n",
       "      <td>351</td>\n",
       "      <td>283</td>\n",
       "      <td>0.024138</td>\n",
       "      <td>0.019553</td>\n",
       "      <td>0.975862</td>\n",
       "      <td>0.980447</td>\n",
       "      <td>fast</td>\n",
       "      <td>0.019553</td>\n",
       "      <td>0.024138</td>\n",
       "      <td>0.021605</td>\n",
       "    </tr>\n",
       "    <tr>\n",
       "      <th>...</th>\n",
       "      <td>...</td>\n",
       "      <td>...</td>\n",
       "      <td>...</td>\n",
       "      <td>...</td>\n",
       "      <td>...</td>\n",
       "      <td>...</td>\n",
       "      <td>...</td>\n",
       "      <td>...</td>\n",
       "      <td>...</td>\n",
       "      <td>...</td>\n",
       "      <td>...</td>\n",
       "    </tr>\n",
       "    <tr>\n",
       "      <th>229</th>\n",
       "      <td>2</td>\n",
       "      <td>70</td>\n",
       "      <td>80</td>\n",
       "      <td>0.024390</td>\n",
       "      <td>0.027778</td>\n",
       "      <td>0.975610</td>\n",
       "      <td>0.972222</td>\n",
       "      <td>mammoth</td>\n",
       "      <td>0.027778</td>\n",
       "      <td>0.024390</td>\n",
       "      <td>0.025974</td>\n",
       "    </tr>\n",
       "    <tr>\n",
       "      <th>230</th>\n",
       "      <td>13</td>\n",
       "      <td>176</td>\n",
       "      <td>211</td>\n",
       "      <td>0.058036</td>\n",
       "      <td>0.068783</td>\n",
       "      <td>0.941964</td>\n",
       "      <td>0.931217</td>\n",
       "      <td>mammoth</td>\n",
       "      <td>0.068783</td>\n",
       "      <td>0.058036</td>\n",
       "      <td>0.062954</td>\n",
       "    </tr>\n",
       "    <tr>\n",
       "      <th>231</th>\n",
       "      <td>26</td>\n",
       "      <td>36</td>\n",
       "      <td>40</td>\n",
       "      <td>0.393939</td>\n",
       "      <td>0.419355</td>\n",
       "      <td>0.606061</td>\n",
       "      <td>0.580645</td>\n",
       "      <td>mammoth</td>\n",
       "      <td>0.419355</td>\n",
       "      <td>0.393939</td>\n",
       "      <td>0.406250</td>\n",
       "    </tr>\n",
       "    <tr>\n",
       "      <th>232</th>\n",
       "      <td>2</td>\n",
       "      <td>148</td>\n",
       "      <td>172</td>\n",
       "      <td>0.011494</td>\n",
       "      <td>0.013333</td>\n",
       "      <td>0.988506</td>\n",
       "      <td>0.986667</td>\n",
       "      <td>mammoth</td>\n",
       "      <td>0.013333</td>\n",
       "      <td>0.011494</td>\n",
       "      <td>0.012346</td>\n",
       "    </tr>\n",
       "    <tr>\n",
       "      <th>233</th>\n",
       "      <td>30</td>\n",
       "      <td>83</td>\n",
       "      <td>94</td>\n",
       "      <td>0.241935</td>\n",
       "      <td>0.265487</td>\n",
       "      <td>0.758065</td>\n",
       "      <td>0.734513</td>\n",
       "      <td>mammoth</td>\n",
       "      <td>0.265487</td>\n",
       "      <td>0.241935</td>\n",
       "      <td>0.253165</td>\n",
       "    </tr>\n",
       "  </tbody>\n",
       "</table>\n",
       "<p>936 rows × 11 columns</p>\n",
       "</div>"
      ],
      "text/plain": [
       "     val_tp  val_fp  val_fn  val_perc_id   val_ppv   val_fnr   val_fdr  \\\n",
       "0        14     180     140     0.090909  0.072165  0.909091  0.927835   \n",
       "1         8      75      57     0.123077  0.096386  0.876923  0.903614   \n",
       "2         3     144     126     0.023256  0.020408  0.976744  0.979592   \n",
       "3        23      28      21     0.522727  0.450980  0.477273  0.549020   \n",
       "4         7     351     283     0.024138  0.019553  0.975862  0.980447   \n",
       "..      ...     ...     ...          ...       ...       ...       ...   \n",
       "229       2      70      80     0.024390  0.027778  0.975610  0.972222   \n",
       "230      13     176     211     0.058036  0.068783  0.941964  0.931217   \n",
       "231      26      36      40     0.393939  0.419355  0.606061  0.580645   \n",
       "232       2     148     172     0.011494  0.013333  0.988506  0.986667   \n",
       "233      30      83      94     0.241935  0.265487  0.758065  0.734513   \n",
       "\n",
       "        tool  precision    recall        f1  \n",
       "0       fast   0.072165  0.090909  0.080460  \n",
       "1       fast   0.096386  0.123077  0.108108  \n",
       "2       fast   0.020408  0.023256  0.021739  \n",
       "3       fast   0.450980  0.522727  0.484211  \n",
       "4       fast   0.019553  0.024138  0.021605  \n",
       "..       ...        ...       ...       ...  \n",
       "229  mammoth   0.027778  0.024390  0.025974  \n",
       "230  mammoth   0.068783  0.058036  0.062954  \n",
       "231  mammoth   0.419355  0.393939  0.406250  \n",
       "232  mammoth   0.013333  0.011494  0.012346  \n",
       "233  mammoth   0.265487  0.241935  0.253165  \n",
       "\n",
       "[936 rows x 11 columns]"
      ]
     },
     "execution_count": 54,
     "metadata": {},
     "output_type": "execute_result"
    }
   ],
   "source": [
    "data"
   ]
  },
  {
   "cell_type": "code",
   "execution_count": 62,
   "metadata": {},
   "outputs": [
    {
     "data": {
      "text/plain": [
       "<matplotlib.legend.Legend at 0x7fd75540e4f0>"
      ]
     },
     "execution_count": 62,
     "metadata": {},
     "output_type": "execute_result"
    },
    {
     "data": {
      "image/png": "[encoded data removed]",
      "text/plain": [
       "<Figure size 432x288 with 1 Axes>"
      ]
     },
     "metadata": {
      "needs_background": "light"
     },
     "output_type": "display_data"
    }
   ],
   "source": [
    "metric = 'recall'\n",
    "sns.distplot(data.loc[data.tool=='fast', metric], label='fast')\n",
    "sns.distplot(data.loc[data.tool=='mammoth', metric], label='mammoth')\n",
    "sns.distplot(data.loc[data.tool=='dali', metric], label='dali')\n",
    "sns.distplot(data.loc[data.tool=='tm', metric], label='tm')\n",
    "plt.title(metric)\n",
    "plt.legend()"
   ]
  },
  {
   "cell_type": "code",
   "execution_count": 39,
   "metadata": {},
   "outputs": [
    {
     "name": "stdout",
     "output_type": "stream",
     "text": [
      "\\begin{tabular}{lr}\n",
      "\\toprule\n",
      "{} &        f1 \\\\\n",
      "tool    &           \\\\\n",
      "\\midrule\n",
      "dali    &  0.162729 \\\\\n",
      "fast    &  0.144782 \\\\\n",
      "mammoth &  0.171942 \\\\\n",
      "tm      &  0.147255 \\\\\n",
      "\\bottomrule\n",
      "\\end{tabular}\n",
      "\n"
     ]
    }
   ],
   "source": [
    "print(data.groupby(['tool']).mean()['f1'].to_latex())"
   ]
  },
  {
   "cell_type": "code",
   "execution_count": 40,
   "metadata": {},
   "outputs": [
    {
     "name": "stdout",
     "output_type": "stream",
     "text": [
      "\\begin{tabular}{lr}\n",
      "\\toprule\n",
      "{} &  precision \\\\\n",
      "tool    &            \\\\\n",
      "\\midrule\n",
      "dali    &   0.166517 \\\\\n",
      "fast    &   0.141615 \\\\\n",
      "mammoth &   0.179421 \\\\\n",
      "tm      &   0.148133 \\\\\n",
      "\\bottomrule\n",
      "\\end{tabular}\n",
      "\n"
     ]
    }
   ],
   "source": [
    "print(data.groupby(['tool']).mean()['precision'].to_latex())"
   ]
  },
  {
   "cell_type": "code",
   "execution_count": 41,
   "metadata": {},
   "outputs": [
    {
     "name": "stdout",
     "output_type": "stream",
     "text": [
      "\\begin{tabular}{lr}\n",
      "\\toprule\n",
      "{} &    recall \\\\\n",
      "tool    &           \\\\\n",
      "\\midrule\n",
      "dali    &  0.159366 \\\\\n",
      "fast    &  0.148646 \\\\\n",
      "mammoth &  0.165280 \\\\\n",
      "tm      &  0.146704 \\\\\n",
      "\\bottomrule\n",
      "\\end{tabular}\n",
      "\n"
     ]
    }
   ],
   "source": [
    "print(data.groupby(['tool']).mean()['recall'].to_latex())"
   ]
  },
  {
   "cell_type": "code",
   "execution_count": null,
   "metadata": {},
   "outputs": [],
   "source": []
  }
 ],
 "metadata": {
  "kernelspec": {
   "display_name": "Python 3",
   "language": "python",
   "name": "python3"
  },
  "language_info": {
   "codemirror_mode": {
    "name": "ipython",
    "version": 3
   },
   "file_extension": ".py",
   "mimetype": "text/x-python",
   "name": "python",
   "nbconvert_exporter": "python",
   "pygments_lexer": "ipython3",
   "version": "3.8.3"
  }
 },
 "nbformat": 4,
 "nbformat_minor": 4
}
